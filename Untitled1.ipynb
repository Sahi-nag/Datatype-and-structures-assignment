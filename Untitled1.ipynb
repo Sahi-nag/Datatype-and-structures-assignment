{
  "nbformat": 4,
  "nbformat_minor": 0,
  "metadata": {
    "colab": {
      "provenance": [],
      "authorship_tag": "ABX9TyPuXxcHX4LvIuj5mYo/lMin",
      "include_colab_link": true
    },
    "kernelspec": {
      "name": "python3",
      "display_name": "Python 3"
    },
    "language_info": {
      "name": "python"
    }
  },
  "cells": [
    {
      "cell_type": "markdown",
      "metadata": {
        "id": "view-in-github",
        "colab_type": "text"
      },
      "source": [
        "<a href=\"https://colab.research.google.com/github/Sahi-nag/Datatype-and-structures-assignment/blob/main/Untitled1.ipynb\" target=\"_parent\"><img src=\"https://colab.research.google.com/assets/colab-badge.svg\" alt=\"Open In Colab\"/></a>"
      ]
    },
    {
      "cell_type": "code",
      "execution_count": null,
      "metadata": {
        "id": "CAmJsBX2e8zE"
      },
      "outputs": [],
      "source": []
    },
    {
      "cell_type": "markdown",
      "source": [
        "1. What is statistics, and why is it important?\n",
        "-> Statistics is the study of collecting, analyzing, and interpreting data to uncover patterns and make informed decisions. It is important because it helps in understanding trends, making predictions, and supporting evidence-based decisions in various fields like science, business, and government.\n",
        "\n",
        "2.  What are the two main types of statistics?\n",
        "-> The two main types of statistics are descriptive statistics, which summarize and organize data, and inferential statistics, which use data from a sample to make predictions or draw conclusions about a larger population.\n",
        "\n",
        "3.  What are descriptive statistics?\n",
        "-> Descriptive statistics are summary measures that describe and simplify the main features of a dataset. They include metrics like mean, median, mode, standard deviation, and range, helping to summarize data in a clear and concise way.\n",
        "\n",
        "4.  What is inferential statistics?\n",
        "-> Inferential statistics involve making predictions or generalizations about a population based on a sample of data. It uses techniques like hypothesis testing, confidence intervals, and regression analysis to draw conclusions beyond the observed data.\n",
        "\n",
        "5.  What is sampling in statistics?\n",
        "-> Sampling in statistics is the process of selecting a subset of individuals or items from a larger population to estimate characteristics of the whole group. It helps gather insights efficiently without studying the entire population.\n",
        "\n",
        "6. What are the different types of sampling method?\n",
        "-> The main types of sampling methods are:\n",
        "\n",
        "Probability Sampling (random selection):\n",
        "Simple random sampling\n",
        "Systematic sampling\n",
        "Stratified sampling\n",
        "Cluster sampling\n",
        "\n",
        "Non-Probability Sampling (non-random selection):\n",
        "Convenience sampling\n",
        "Judgmental/purposive sampling\n",
        "Quota sampling\n",
        "Snowball sampling\n",
        "\n",
        "7.  What is the difference between random and non-random sampling?\n",
        "-> The key difference is:\n",
        "Random sampling gives every individual in the population an equal chance of being selected, reducing bias and improving representativeness.\n",
        "Non-random sampling does not give all individuals an equal chance; selection is based on convenience or judgment, which may introduce bias.\n",
        "\n",
        "8. Define and give examples of qualitative and quantitative data?\n",
        "-> Qualitative data describes qualities or characteristics and is non-numerical.\n",
        "Example: Colors of cars (red, blue), types of cuisine (Italian, Chinese).\n",
        "Quantitative data is numerical and measures quantities.\n",
        "Example: Heights of students (160 cm, 170 cm), number of books (5, 12).\n",
        "\n",
        "9. What are the different types of data in statistics?\n",
        "-> The main types of data in statistics are:\n",
        "\n",
        "Qualitative (Categorical) Data:\n",
        "Nominal (e.g., gender, colors)\n",
        "Ordinal (e.g., rankings, satisfaction levels)\n",
        "\n",
        "Quantitative (Numerical) Data:\n",
        "Discrete (e.g., number of students)\n",
        "Continuous (e.g., height, weight)\n",
        "\n",
        "10. Explain nominal, ordinal, interval, and ratio levels of measurement?\n",
        "-> Nominal data represents categories without order (e.g., gender). Ordinal data has ordered categories but unequal intervals (e.g., rankings). Interval data has ordered values with equal intervals but no true zero (e.g., temperature in Celsius). Ratio data has all the properties of interval data, plus a true zero point, allowing for meaningful ratios (e.g., weight).\n",
        "\n",
        "11. What is the measure of central tendency?\n",
        "-> The measure of central tendency refers to statistical measures that describe the center of a data set. The main measures are:\n",
        "Mean: The average of all values.\n",
        "Median: The middle value when the data is ordered.\n",
        "Mode: The most frequently occurring value in the data set.\n",
        "\n",
        "12.  Define mean, median, and mode\n",
        "-> Mean: The average of a set of numbers, calculated by summing all the values and dividing by the number of values.\n",
        "Example: (3 + 5 + 7) / 3 = 5.\n",
        "Median: The middle value in an ordered data set. If there’s an even number of values, the median is the average of the two middle values.\n",
        "Example: For the data 1, 3, 5, 7, 9, the median is 5.\n",
        "Mode: The value that appears most frequently in a data set.\n",
        "Example: In the data set 2, 3, 3, 4, 5, the mode is 3.\n",
        "\n",
        "13. What is the significance of the measure of central tendency?\n",
        "-> The measure of central tendency is significant because it provides a summary of the data by identifying a central or typical value. It helps in understanding the general trend or distribution of the data, making it easier to compare different datasets and draw conclusions about the overall pattern.\n",
        "\n",
        "14.  What is variance, and how is it calculated?\n",
        "-> Variance measures how much the data values spread out from the mean. It is calculated by finding the average of the squared differences between each data point and the mean.\n",
        "Variance= ∑(x− xˉ)2/n\n",
        "where x = data points, xˉ= mean, and n = number of data points.\n",
        "\n",
        "15.  What is standard deviation, and why is it important?\n",
        "-> Standard deviation measures the average distance of each data point from the mean, showing how spread out the data is. It is important because it provides insight into the variability or consistency of a dataset, helping to understand data dispersion in the same units as the data itself.\n",
        "\n",
        "16. Define and explain the term range in statistics\n",
        "-> The range in statistics is the difference between the highest and lowest values in a dataset. It measures the total spread of the data and gives a quick sense of variability.\n",
        "Example: For the data set 3, 7, 10, 15, the range is 15 − 3 = 12.\n",
        "\n",
        "17.  What is the difference between variance and standard deviation?\n",
        "-> The main difference is:\n",
        "Variance measures the average of the squared differences from the mean, giving a measure in squared units.\n",
        "Standard deviation is the square root of the variance, expressing the spread in the same units as the original data, making it easier to interpret.\n",
        "\n",
        "18.  What is skewness in a datase?\n",
        "-> Skewness measures the asymmetry of a data distribution around its mean. If skewness is zero, the data is perfectly symmetrical; positive skew means the tail is longer on the right, and negative skew means the tail is longer on the left.\n",
        "\n",
        "19.  What does it mean if a dataset is positively or negatively skewed?\n",
        "-> Positively skewed: The dataset has a long tail on the right side, with most values clustered on the left (e.g., income distribution).\n",
        "Negatively skewed: The dataset has a long tail on the left side, with most values clustered on the right (e.g., age at retirement).\n",
        "\n",
        "20. Define and explain kurtosis\n",
        "-> Kurtosis measures the \"tailedness\" or sharpness of a data distribution’s peak compared to a normal distribution. High kurtosis indicates more extreme outliers (heavy tails), while low kurtosis shows fewer outliers (light tails), helping assess the risk of unusual data points.\n",
        "\n",
        "21.  What is the purpose of covariance?\n",
        "> The purpose of covariance is to measure the relationship between two variables, indicating how they change together. A positive covariance means the variables increase or decrease together, while a negative covariance means one increases as the other decreases.\n",
        "\n",
        "22.  What does correlation measure in statistics?\n",
        "-> Correlation measures the strength and direction of the linear relationship between two variables. It ranges from -1 to +1, where +1 indicates a perfect positive relationship, -1 a perfect negative relationship, and 0 no linear relationship.\n",
        "\n",
        "23.  What is the difference between covariance and correlation?\n",
        "-> Covariance shows the direction of the relationship between two variables but not its strength, and its value depends on the units of the variables.\n",
        "Correlation standardizes covariance to a range between -1 and +1, showing both the direction and strength of the relationship, making it easier to interpret.\n",
        "\n",
        "24.  What are some real-world applications of statistics?\n",
        "-> Some real-world applications of statistics include:\n",
        "Healthcare: Analyzing patient data, determining the effectiveness of treatments, and tracking disease outbreaks.\n",
        "Business: Market research, customer satisfaction surveys, and product quality control.\n",
        "Sports: Performance analysis, player statistics, and team strategy optimization.\n",
        "Economics: Studying economic trends, inflation rates, and making predictions for fiscal policies.\n",
        "Education: Analyzing test scores, student performance, and educational outcomes.\n",
        "\n"
      ],
      "metadata": {
        "id": "NZUZcLLtfCyx"
      }
    },
    {
      "cell_type": "code",
      "source": [],
      "metadata": {
        "id": "KtrA63EkIl_c"
      },
      "execution_count": null,
      "outputs": []
    },
    {
      "cell_type": "markdown",
      "source": [
        "# **Practical**"
      ],
      "metadata": {
        "id": "ErHtM9n8InzZ"
      }
    },
    {
      "cell_type": "code",
      "source": [],
      "metadata": {
        "id": "VC1wGvoCIw0i"
      },
      "execution_count": null,
      "outputs": []
    },
    {
      "cell_type": "markdown",
      "source": [
        "1.  How do you calculate the mean, median, and mode of a datase?\n",
        "-> To calculate the mean, median, and mode of a dataset:\n",
        "\n",
        "Mean:\n",
        "Add all the numbers in the dataset.\n",
        "Divide the sum by the total number of data points.\n",
        "Formula: Mean=∑𝑥/𝑛\n",
        "\n",
        "Median:\n",
        "Arrange the data in ascending order.\n",
        "If the number of data points is odd, the median is the middle value.\n",
        "If even, the median is the average of the two middle values.\n",
        "\n",
        "Mode:\n",
        "Identify the most frequent value(s) in the dataset.\n",
        "If no value repeats, there is no mode.\n",
        "If multiple values have the same highest frequency, the dataset is multimodal."
      ],
      "metadata": {
        "id": "g1nDaOpoIxym"
      }
    },
    {
      "cell_type": "code",
      "source": [],
      "metadata": {
        "id": "Zj_634mrI5n2"
      },
      "execution_count": null,
      "outputs": []
    },
    {
      "cell_type": "markdown",
      "source": [
        "2.  Write a Python program to compute the variance and standard deviation of a dataset"
      ],
      "metadata": {
        "id": "HUUhjUJkJwxZ"
      }
    },
    {
      "cell_type": "code",
      "source": [
        "import numpy as np\n",
        "\n",
        "# Example dataset\n",
        "data = [5, 7, 3, 10, 12, 8, 6]\n",
        "\n",
        "# Calculate the variance\n",
        "variance = np.var(data)\n",
        "\n",
        "# Calculate the standard deviation\n",
        "std_deviation = np.std(data)\n",
        "\n",
        "# Print the results\n",
        "print(f\"Variance: {variance}\")\n",
        "print(f\"Standard Deviation: {std_deviation}\")\n"
      ],
      "metadata": {
        "colab": {
          "base_uri": "https://localhost:8080/"
        },
        "id": "BCE8ezh2KNQq",
        "outputId": "df8f115c-6bcb-4dda-f153-d8875b89f202"
      },
      "execution_count": 2,
      "outputs": [
        {
          "output_type": "stream",
          "name": "stdout",
          "text": [
            "Variance: 7.9183673469387745\n",
            "Standard Deviation: 2.813959371941744\n"
          ]
        }
      ]
    },
    {
      "cell_type": "code",
      "source": [],
      "metadata": {
        "id": "o8LuXoCAKOrY"
      },
      "execution_count": 1,
      "outputs": []
    },
    {
      "cell_type": "markdown",
      "source": [
        "3.  Create a dataset and classify it into nominal, ordinal, interval, and ratio types"
      ],
      "metadata": {
        "id": "atxK3T4UKVqb"
      }
    },
    {
      "cell_type": "code",
      "source": [],
      "metadata": {
        "id": "4NRQ_jtBKZZl"
      },
      "execution_count": null,
      "outputs": []
    },
    {
      "cell_type": "markdown",
      "source": [
        "Here’s an example of a dataset with variables classified into nominal, ordinal, interval, and ratio types:\n",
        "\n",
        "Dataset:\n",
        "Nominal: Types of fruit in a store\n",
        "Example: [\"Apple\", \"Banana\", \"Cherry\", \"Banana\", \"Apple\"]\n",
        "\n",
        "Ordinal: Customer satisfaction ratings\n",
        "Example: [1, 3, 2, 4, 5] (1 = Very Dissatisfied, 5 = Very Satisfied)\n",
        "\n",
        "Interval: Temperatures in Celsius recorded over a week\n",
        "Example: [18, 20, 22, 19, 21] (Note: No true zero, zero does not mean \"no temperature\")\n",
        "\n",
        "Ratio: Heights of people in centimeters\n",
        "Example: [160, 170, 180, 165, 155] (Has a true zero, where zero height means no height)\n",
        "\n",
        "Each type of data serves different purposes and is analyzed using different statistical methods."
      ],
      "metadata": {
        "id": "PnbEPxHRKnL_"
      }
    },
    {
      "cell_type": "code",
      "source": [],
      "metadata": {
        "id": "C2IUoNhcK2vk"
      },
      "execution_count": null,
      "outputs": []
    },
    {
      "cell_type": "markdown",
      "source": [
        "4.  Implement sampling techniques like random sampling and stratified sampling"
      ],
      "metadata": {
        "id": "qBxMPpx7K_1n"
      }
    },
    {
      "cell_type": "code",
      "source": [
        "import random\n",
        "import pandas as pd\n",
        "from sklearn.model_selection import train_test_split\n",
        "\n",
        "# Example dataset\n",
        "data = pd.DataFrame({\n",
        "    'ID': range(1, 21),\n",
        "    'Category': ['A'] * 10 + ['B'] * 10\n",
        "})\n",
        "\n",
        "# Random Sampling: select 5 random samples\n",
        "random_sample = data.sample(n=5, random_state=42)\n",
        "print(\"Random Sample:\\n\", random_sample)\n",
        "\n",
        "# Stratified Sampling: maintain proportion of 'Category'\n",
        "train, stratified_sample = train_test_split(\n",
        "    data,\n",
        "    test_size=0.25,\n",
        "    stratify=data['Category'],\n",
        "    random_state=42\n",
        ")\n",
        "print(\"\\nStratified Sample:\\n\", stratified_sample)\n"
      ],
      "metadata": {
        "colab": {
          "base_uri": "https://localhost:8080/"
        },
        "id": "lVfK3hSaLMzX",
        "outputId": "add2dd96-15c4-4848-9012-9bc532c761f4"
      },
      "execution_count": 3,
      "outputs": [
        {
          "output_type": "stream",
          "name": "stdout",
          "text": [
            "Random Sample:\n",
            "     ID Category\n",
            "0    1        A\n",
            "17  18        B\n",
            "15  16        B\n",
            "1    2        A\n",
            "8    9        A\n",
            "\n",
            "Stratified Sample:\n",
            "     ID Category\n",
            "4    5        A\n",
            "7    8        A\n",
            "17  18        B\n",
            "14  15        B\n",
            "3    4        A\n"
          ]
        }
      ]
    },
    {
      "cell_type": "code",
      "source": [],
      "metadata": {
        "id": "svI0YMbJLOhS"
      },
      "execution_count": null,
      "outputs": []
    },
    {
      "cell_type": "markdown",
      "source": [
        "5.  Write a Python function to calculate the range of a dataset"
      ],
      "metadata": {
        "id": "mUPxGK9LLT0Q"
      }
    },
    {
      "cell_type": "code",
      "source": [
        "def calculate_range(data):\n",
        "    if not data:\n",
        "        return None  # Handle empty dataset\n",
        "    return max(data) - min(data)\n",
        "\n",
        "# Example usage\n",
        "dataset = [4, 8, 15, 16, 23, 42]\n",
        "result = calculate_range(dataset)\n",
        "print(f\"The range of the dataset is: {result}\")\n"
      ],
      "metadata": {
        "colab": {
          "base_uri": "https://localhost:8080/"
        },
        "id": "VpF6qFg6LcwV",
        "outputId": "79ca5bda-4c63-4c22-a92e-924015e5017e"
      },
      "execution_count": 4,
      "outputs": [
        {
          "output_type": "stream",
          "name": "stdout",
          "text": [
            "The range of the dataset is: 38\n"
          ]
        }
      ]
    },
    {
      "cell_type": "markdown",
      "source": [
        "6. Create a dataset and plot its histogram to visualize skewness"
      ],
      "metadata": {
        "id": "YfsExXoDLfh7"
      }
    },
    {
      "cell_type": "code",
      "source": [
        "import numpy as np\n",
        "import matplotlib.pyplot as plt\n",
        "\n",
        "# Create a positively skewed dataset (e.g., exponential distribution)\n",
        "data = np.random.exponential(scale=2.0, size=1000)\n",
        "\n",
        "# Plot histogram\n",
        "plt.hist(data, bins=30, color='skyblue', edgecolor='black')\n",
        "plt.title('Histogram to Visualize Skewness')\n",
        "plt.xlabel('Values')\n",
        "plt.ylabel('Frequency')\n",
        "plt.show()\n"
      ],
      "metadata": {
        "colab": {
          "base_uri": "https://localhost:8080/",
          "height": 472
        },
        "id": "bvtc4vb5LdgM",
        "outputId": "bba48109-d9fe-409c-8fd5-109dc66064a1"
      },
      "execution_count": 5,
      "outputs": [
        {
          "output_type": "display_data",
          "data": {
            "text/plain": [
              "<Figure size 640x480 with 1 Axes>"
            ],
            "image/png": "[encoded data removed]"
          },
          "metadata": {}
        }
      ]
    },
    {
      "cell_type": "code",
      "source": [],
      "metadata": {
        "id": "68DdHNShLokn"
      },
      "execution_count": null,
      "outputs": []
    },
    {
      "cell_type": "markdown",
      "source": [
        "7.  Calculate skewness and kurtosis of a dataset using Python libraries5"
      ],
      "metadata": {
        "id": "3m_hDIdtLq_K"
      }
    },
    {
      "cell_type": "code",
      "source": [
        "import numpy as np\n",
        "from scipy.stats import skew, kurtosis\n",
        "\n",
        "# Example dataset\n",
        "data = [10, 12, 23, 23, 16, 23, 21, 16, 23, 21]\n",
        "\n",
        "# Calculate skewness\n",
        "data_skewness = skew(data)\n",
        "\n",
        "# Calculate kurtosis\n",
        "data_kurtosis = kurtosis(data)\n",
        "\n",
        "print(f\"Skewness: {data_skewness}\")\n",
        "print(f\"Kurtosis: {data_kurtosis}\")\n"
      ],
      "metadata": {
        "colab": {
          "base_uri": "https://localhost:8080/"
        },
        "id": "dS629WoTLwUw",
        "outputId": "9cdfa15f-b873-4584-baff-20774b8220b6"
      },
      "execution_count": 6,
      "outputs": [
        {
          "output_type": "stream",
          "name": "stdout",
          "text": [
            "Skewness: -0.7017540468453263\n",
            "Kurtosis: -1.0197577313943877\n"
          ]
        }
      ]
    },
    {
      "cell_type": "markdown",
      "source": [
        "8. Generate a dataset and demonstrate positive and negative skewness"
      ],
      "metadata": {
        "id": "jLSOrCVuL1qp"
      }
    },
    {
      "cell_type": "code",
      "source": [
        "import numpy as np\n",
        "import matplotlib.pyplot as plt\n",
        "\n",
        "# Generate positively skewed data (e.g., exponential distribution)\n",
        "positive_skew_data = np.random.exponential(scale=2.0, size=1000)\n",
        "\n",
        "# Generate negatively skewed data (by inverting exponential data)\n",
        "negative_skew_data = -np.random.exponential(scale=2.0, size=1000)\n",
        "\n",
        "# Plot histograms\n",
        "fig, axes = plt.subplots(1, 2, figsize=(12, 5))\n",
        "\n",
        "# Positive skewness plot\n",
        "axes[0].hist(positive_skew_data, bins=30, color='lightgreen', edgecolor='black')\n",
        "axes[0].set_title('Positively Skewed Data')\n",
        "\n",
        "# Negative skewness plot\n",
        "axes[1].hist(negative_skew_data, bins=30, color='lightcoral', edgecolor='black')\n",
        "axes[1].set_title('Negatively Skewed Data')\n",
        "\n",
        "plt.show()\n"
      ],
      "metadata": {
        "colab": {
          "base_uri": "https://localhost:8080/",
          "height": 468
        },
        "id": "Z4LwP6GoL0hE",
        "outputId": "dbbd0c8e-25c6-4e29-e255-d352e592396c"
      },
      "execution_count": 7,
      "outputs": [
        {
          "output_type": "display_data",
          "data": {
            "text/plain": [
              "<Figure size 1200x500 with 2 Axes>"
            ],
            "image/png": "[encoded data removed]"
          },
          "metadata": {}
        }
      ]
    },
    {
      "cell_type": "code",
      "source": [],
      "metadata": {
        "id": "JIxaXHMnMGz5"
      },
      "execution_count": null,
      "outputs": []
    },
    {
      "cell_type": "markdown",
      "source": [
        "9. Write a Python script to calculate covariance between two datasets"
      ],
      "metadata": {
        "id": "lFy2ScZ8MMNf"
      }
    },
    {
      "cell_type": "code",
      "source": [
        "import numpy as np\n",
        "\n",
        "# Example datasets\n",
        "x = [2, 4, 6, 8, 10]\n",
        "y = [1, 3, 5, 7, 9]\n",
        "\n",
        "# Calculate covariance matrix\n",
        "cov_matrix = np.cov(x, y)\n",
        "\n",
        "# Extract the covariance value\n",
        "covariance = cov_matrix[0, 1]\n",
        "\n",
        "print(f\"Covariance between the two datasets: {covariance}\")\n"
      ],
      "metadata": {
        "colab": {
          "base_uri": "https://localhost:8080/"
        },
        "id": "4yYrpDrAMQAn",
        "outputId": "b0d5a5b4-f467-4f86-a7e4-d730db1e9824"
      },
      "execution_count": 9,
      "outputs": [
        {
          "output_type": "stream",
          "name": "stdout",
          "text": [
            "Covariance between the two datasets: 10.0\n"
          ]
        }
      ]
    },
    {
      "cell_type": "markdown",
      "source": [
        "10. Write a Python script to calculate the correlation coefficient between two datasets"
      ],
      "metadata": {
        "id": "srVIseEiMgTS"
      }
    },
    {
      "cell_type": "code",
      "source": [
        "import numpy as np\n",
        "\n",
        "# Example datasets\n",
        "x = [2, 4, 6, 8, 10]\n",
        "y = [1, 3, 5, 7, 9]\n",
        "\n",
        "# Calculate correlation coefficient matrix\n",
        "correlation_matrix = np.corrcoef(x, y)\n",
        "\n",
        "# Extract the correlation coefficient\n",
        "correlation_coefficient = correlation_matrix[0, 1]\n",
        "\n",
        "print(f\"Correlation coefficient between the two datasets: {correlation_coefficient}\")\n"
      ],
      "metadata": {
        "colab": {
          "base_uri": "https://localhost:8080/"
        },
        "id": "k3FAEfHeMe8y",
        "outputId": "d08ad15e-4d70-4080-b961-2da87fba5715"
      },
      "execution_count": 10,
      "outputs": [
        {
          "output_type": "stream",
          "name": "stdout",
          "text": [
            "Correlation coefficient between the two datasets: 0.9999999999999999\n"
          ]
        }
      ]
    },
    {
      "cell_type": "markdown",
      "source": [
        "11.  Create a scatter plot to visualize the relationship between two variables"
      ],
      "metadata": {
        "id": "timqOS-nMsFb"
      }
    },
    {
      "cell_type": "code",
      "source": [
        "import matplotlib.pyplot as plt\n",
        "\n",
        "# Example datasets\n",
        "x = [2, 4, 6, 8, 10]\n",
        "y = [1, 3, 5, 7, 9]\n",
        "\n",
        "# Create scatter plot\n",
        "plt.scatter(x, y, color='blue', edgecolor='black')\n",
        "plt.title('Scatter Plot of Two Variables')\n",
        "plt.xlabel('X values')\n",
        "plt.ylabel('Y values')\n",
        "plt.show()\n"
      ],
      "metadata": {
        "colab": {
          "base_uri": "https://localhost:8080/",
          "height": 472
        },
        "id": "yB-Sn65XMrIg",
        "outputId": "b5d79694-030e-4d5b-a33b-76f1ea44bcfe"
      },
      "execution_count": 11,
      "outputs": [
        {
          "output_type": "display_data",
          "data": {
            "text/plain": [
              "<Figure size 640x480 with 1 Axes>"
            ],
            "image/png": "[encoded data removed]"
          },
          "metadata": {}
        }
      ]
    },
    {
      "cell_type": "markdown",
      "source": [
        "12. Implement and compare simple random sampling and systematic sampling"
      ],
      "metadata": {
        "id": "b2t00k0QM5XW"
      }
    },
    {
      "cell_type": "code",
      "source": [
        "import pandas as pd\n",
        "import numpy as np\n",
        "\n",
        "# Create a dataset\n",
        "data = pd.DataFrame({'ID': range(1, 21)})\n",
        "\n",
        "# Simple Random Sampling: randomly select 5 samples\n",
        "random_sample = data.sample(n=5, random_state=42)\n",
        "print(\"Simple Random Sampling:\\n\", random_sample)\n",
        "\n",
        "# Systematic Sampling: select every 4th item\n",
        "k = 4  # sampling interval\n",
        "start = np.random.randint(0, k)  # random start point\n",
        "systematic_sample = data.iloc[start::k]\n",
        "print(\"\\nSystematic Sampling:\\n\", systematic_sample)\n"
      ],
      "metadata": {
        "colab": {
          "base_uri": "https://localhost:8080/"
        },
        "id": "nYXgZOlHM3qu",
        "outputId": "03ef9a1b-b24d-48a3-f226-63feb0585e2a"
      },
      "execution_count": 12,
      "outputs": [
        {
          "output_type": "stream",
          "name": "stdout",
          "text": [
            "Simple Random Sampling:\n",
            "     ID\n",
            "0    1\n",
            "17  18\n",
            "15  16\n",
            "1    2\n",
            "8    9\n",
            "\n",
            "Systematic Sampling:\n",
            "     ID\n",
            "0    1\n",
            "4    5\n",
            "8    9\n",
            "12  13\n",
            "16  17\n"
          ]
        }
      ]
    },
    {
      "cell_type": "markdown",
      "source": [
        "13.  Calculate the mean, median, and mode of grouped data"
      ],
      "metadata": {
        "id": "9PDIZPFFNGTd"
      }
    },
    {
      "cell_type": "code",
      "source": [
        "import pandas as pd\n",
        "from scipy import stats\n",
        "\n",
        "# Example grouped data: class intervals and frequencies\n",
        "data = {\n",
        "    'Class Interval': ['0-10', '10-20', '20-30', '30-40', '40-50'],\n",
        "    'Frequency': [5, 8, 15, 7, 5]\n",
        "}\n",
        "\n",
        "df = pd.DataFrame(data)\n",
        "\n",
        "# Calculate midpoints for each class interval\n",
        "df['Midpoint'] = df['Class Interval'].apply(lambda x: (int(x.split('-')[0]) + int(x.split('-')[1])) / 2)\n",
        "\n",
        "# Mean formula: Σ(f * x) / Σf\n",
        "mean = (df['Midpoint'] * df['Frequency']).sum() / df['Frequency'].sum()\n",
        "\n",
        "# Median (approximate for grouped data)\n",
        "cumulative_frequency = df['Frequency'].cumsum()\n",
        "N = df['Frequency'].sum()\n",
        "median_class_index = cumulative_frequency[cumulative_frequency >= N/2].index[0]\n",
        "median_class = df.iloc[median_class_index]\n",
        "L = int(median_class['Class Interval'].split('-')[0])\n",
        "F = df['Frequency'][:median_class_index].sum()\n",
        "f = median_class['Frequency']\n",
        "h = int(median_class['Class Interval'].split('-')[1]) - L\n",
        "median = L + ((N/2 - F) / f) * h\n",
        "\n",
        "# Mode (approximate for grouped data)\n",
        "modal_class_index = df['Frequency'].idxmax()\n",
        "modal_class = df.iloc[modal_class_index]\n",
        "L = int(modal_class['Class Interval'].split('-')[0])\n",
        "f1 = modal_class['Frequency']\n",
        "f0 = df.iloc[modal_class_index - 1]['Frequency'] if modal_class_index > 0 else 0\n",
        "f2 = df.iloc[modal_class_index + 1]['Frequency'] if modal_class_index < len(df)-1 else 0\n",
        "h = int(modal_class['Class Interval'].split('-')[1]) - L\n",
        "mode = L + ((f1 - f0) / ((2 * f1) - f0 - f2)) * h\n",
        "\n",
        "print(f\"Mean: {mean}\")\n",
        "print(f\"Median: {median}\")\n",
        "print(f\"Mode: {mode}\")\n"
      ],
      "metadata": {
        "colab": {
          "base_uri": "https://localhost:8080/"
        },
        "id": "5JVNy1c-NO76",
        "outputId": "b8c5e233-c9a1-4771-9687-1b5c1165f621"
      },
      "execution_count": 14,
      "outputs": [
        {
          "output_type": "stream",
          "name": "stdout",
          "text": [
            "Mean: 24.75\n",
            "Median: 24.666666666666668\n",
            "Mode: 24.666666666666668\n"
          ]
        }
      ]
    },
    {
      "cell_type": "code",
      "source": [
        "\n"
      ],
      "metadata": {
        "id": "3MqCm5osNWCl"
      },
      "execution_count": 14,
      "outputs": []
    },
    {
      "cell_type": "markdown",
      "source": [
        "14.  Simulate data using Python and calculate its central tendency and dispersion."
      ],
      "metadata": {
        "id": "z6TySbyBNY5f"
      }
    },
    {
      "cell_type": "code",
      "source": [
        "import numpy as np\n",
        "import pandas as pd\n",
        "from scipy import stats\n",
        "\n",
        "# Simulating data (e.g., normally distributed data)\n",
        "np.random.seed(42)  # for reproducibility\n",
        "data = np.random.normal(loc=50, scale=10, size=1000)  # mean=50, std=10, n=1000\n",
        "\n",
        "# Calculate central tendency\n",
        "mean = np.mean(data)\n",
        "median = np.median(data)\n",
        "mode = stats.mode(data)[0][0]\n",
        "\n",
        "# Calculate dispersion\n",
        "variance = np.var(data)\n",
        "std_deviation = np.std(data)\n",
        "range_value = np.ptp(data)\n",
        "\n",
        "# Print results\n",
        "print(f\"Mean: {mean}\")\n",
        "print(f\"Median: {median}\")\n",
        "print(f\"Mode: {mode}\")\n",
        "print(f\"Variance: {variance}\")\n",
        "print(f\"Standard Deviation: {std_deviation}\")\n",
        "print(f\"Range: {range_value}\")\n"
      ],
      "metadata": {
        "colab": {
          "base_uri": "https://localhost:8080/",
          "height": 216
        },
        "id": "s-j9sBkeNgoT",
        "outputId": "517f3324-c7fb-4278-968e-626c2b712f79"
      },
      "execution_count": 15,
      "outputs": [
        {
          "output_type": "error",
          "ename": "IndexError",
          "evalue": "invalid index to scalar variable.",
          "traceback": [
            "\u001b[0;31m---------------------------------------------------------------------------\u001b[0m",
            "\u001b[0;31mIndexError\u001b[0m                                Traceback (most recent call last)",
            "\u001b[0;32m<ipython-input-15-f165021b91e7>\u001b[0m in \u001b[0;36m<cell line: 0>\u001b[0;34m()\u001b[0m\n\u001b[1;32m     10\u001b[0m \u001b[0mmean\u001b[0m \u001b[0;34m=\u001b[0m \u001b[0mnp\u001b[0m\u001b[0;34m.\u001b[0m\u001b[0mmean\u001b[0m\u001b[0;34m(\u001b[0m\u001b[0mdata\u001b[0m\u001b[0;34m)\u001b[0m\u001b[0;34m\u001b[0m\u001b[0;34m\u001b[0m\u001b[0m\n\u001b[1;32m     11\u001b[0m \u001b[0mmedian\u001b[0m \u001b[0;34m=\u001b[0m \u001b[0mnp\u001b[0m\u001b[0;34m.\u001b[0m\u001b[0mmedian\u001b[0m\u001b[0;34m(\u001b[0m\u001b[0mdata\u001b[0m\u001b[0;34m)\u001b[0m\u001b[0;34m\u001b[0m\u001b[0;34m\u001b[0m\u001b[0m\n\u001b[0;32m---> 12\u001b[0;31m \u001b[0mmode\u001b[0m \u001b[0;34m=\u001b[0m \u001b[0mstats\u001b[0m\u001b[0;34m.\u001b[0m\u001b[0mmode\u001b[0m\u001b[0;34m(\u001b[0m\u001b[0mdata\u001b[0m\u001b[0;34m)\u001b[0m\u001b[0;34m[\u001b[0m\u001b[0;36m0\u001b[0m\u001b[0;34m]\u001b[0m\u001b[0;34m[\u001b[0m\u001b[0;36m0\u001b[0m\u001b[0;34m]\u001b[0m\u001b[0;34m\u001b[0m\u001b[0;34m\u001b[0m\u001b[0m\n\u001b[0m\u001b[1;32m     13\u001b[0m \u001b[0;34m\u001b[0m\u001b[0m\n\u001b[1;32m     14\u001b[0m \u001b[0;31m# Calculate dispersion\u001b[0m\u001b[0;34m\u001b[0m\u001b[0;34m\u001b[0m\u001b[0m\n",
            "\u001b[0;31mIndexError\u001b[0m: invalid index to scalar variable."
          ]
        }
      ]
    },
    {
      "cell_type": "code",
      "source": [
        "import numpy as np\n",
        "import pandas as pd\n",
        "from scipy import stats\n",
        "\n",
        "# Simulating data (e.g., normally distributed data)\n",
        "np.random.seed(42)  # for reproducibility\n",
        "data = np.random.normal(loc=50, scale=10, size=1000)  # mean=50, std=10, n=1000\n",
        "\n",
        "# Calculate central tendency\n",
        "mean = np.mean(data)\n",
        "median = np.median(data)\n",
        "# Access the mode value directly from the ModeResult object\n",
        "mode = stats.mode(data).mode[0] # Changed from stats.mode(data)[0][0]\n",
        "\n",
        "# Calculate dispersion\n",
        "variance = np.var(data)\n",
        "std_deviation = np.std(data)\n",
        "range_value = np.ptp(data)\n",
        "\n",
        "# Print results\n",
        "print(f\"Mean: {mean}\")\n",
        "print(f\"Median: {median}\")\n",
        "print(f\"Mode: {mode}\")\n",
        "print(f\"Variance: {variance}\")\n",
        "print(f\"Standard Deviation: {std_deviation}\")\n",
        "print(f\"Range: {range_value}\")"
      ],
      "metadata": {
        "colab": {
          "base_uri": "https://localhost:8080/",
          "height": 216
        },
        "id": "-VUfvPn4Nlqd",
        "outputId": "2035082b-e0c0-4f1b-be25-e300785c69b1"
      },
      "execution_count": 17,
      "outputs": [
        {
          "output_type": "error",
          "ename": "IndexError",
          "evalue": "invalid index to scalar variable.",
          "traceback": [
            "\u001b[0;31m---------------------------------------------------------------------------\u001b[0m",
            "\u001b[0;31mIndexError\u001b[0m                                Traceback (most recent call last)",
            "\u001b[0;32m<ipython-input-17-bc4b914e2660>\u001b[0m in \u001b[0;36m<cell line: 0>\u001b[0;34m()\u001b[0m\n\u001b[1;32m     11\u001b[0m \u001b[0mmedian\u001b[0m \u001b[0;34m=\u001b[0m \u001b[0mnp\u001b[0m\u001b[0;34m.\u001b[0m\u001b[0mmedian\u001b[0m\u001b[0;34m(\u001b[0m\u001b[0mdata\u001b[0m\u001b[0;34m)\u001b[0m\u001b[0;34m\u001b[0m\u001b[0;34m\u001b[0m\u001b[0m\n\u001b[1;32m     12\u001b[0m \u001b[0;31m# Access the mode value directly from the ModeResult object\u001b[0m\u001b[0;34m\u001b[0m\u001b[0;34m\u001b[0m\u001b[0m\n\u001b[0;32m---> 13\u001b[0;31m \u001b[0mmode\u001b[0m \u001b[0;34m=\u001b[0m \u001b[0mstats\u001b[0m\u001b[0;34m.\u001b[0m\u001b[0mmode\u001b[0m\u001b[0;34m(\u001b[0m\u001b[0mdata\u001b[0m\u001b[0;34m)\u001b[0m\u001b[0;34m.\u001b[0m\u001b[0mmode\u001b[0m\u001b[0;34m[\u001b[0m\u001b[0;36m0\u001b[0m\u001b[0;34m]\u001b[0m \u001b[0;31m# Changed from stats.mode(data)[0][0]\u001b[0m\u001b[0;34m\u001b[0m\u001b[0;34m\u001b[0m\u001b[0m\n\u001b[0m\u001b[1;32m     14\u001b[0m \u001b[0;34m\u001b[0m\u001b[0m\n\u001b[1;32m     15\u001b[0m \u001b[0;31m# Calculate dispersion\u001b[0m\u001b[0;34m\u001b[0m\u001b[0;34m\u001b[0m\u001b[0m\n",
            "\u001b[0;31mIndexError\u001b[0m: invalid index to scalar variable."
          ]
        }
      ]
    },
    {
      "cell_type": "code",
      "source": [],
      "metadata": {
        "id": "88YTEXHWN3At"
      },
      "execution_count": null,
      "outputs": []
    },
    {
      "cell_type": "markdown",
      "source": [
        "15.  Use NumPy or pandas to summarize a dataset’s descriptive statistics"
      ],
      "metadata": {
        "id": "8qaoWfa7N5wg"
      }
    },
    {
      "cell_type": "code",
      "source": [
        "import pandas as pd\n",
        "import numpy as np\n",
        "\n",
        "# Simulate a dataset\n",
        "data = np.random.normal(loc=50, scale=10, size=1000)\n",
        "\n",
        "# Create a pandas DataFrame\n",
        "df = pd.DataFrame(data, columns=['Values'])\n",
        "\n",
        "# Summary statistics using pandas\n",
        "summary = df.describe()\n",
        "print(\"Descriptive Statistics using pandas:\\n\", summary)\n"
      ],
      "metadata": {
        "colab": {
          "base_uri": "https://localhost:8080/"
        },
        "id": "ReO1PdQEN8-0",
        "outputId": "88f5253c-93af-4c7f-fe3f-76502e9fbd81"
      },
      "execution_count": 19,
      "outputs": [
        {
          "output_type": "stream",
          "name": "stdout",
          "text": [
            "Descriptive Statistics using pandas:\n",
            "             Values\n",
            "count  1000.000000\n",
            "mean     50.708362\n",
            "std       9.974544\n",
            "min      20.596114\n",
            "25%      43.937583\n",
            "50%      50.630771\n",
            "75%      57.288822\n",
            "max      81.931076\n"
          ]
        }
      ]
    },
    {
      "cell_type": "code",
      "source": [
        "\n",
        "import numpy as np\n",
        "\n",
        "# Simulate a dataset\n",
        "data = np.random.normal(loc=50, scale=10, size=1000)\n",
        "\n",
        "# Summary statistics using NumPy\n",
        "mean = np.mean(data)\n",
        "median = np.median(data)\n",
        "std_deviation = np.std(data)\n",
        "variance = np.var(data)\n",
        "minimum = np.min(data)\n",
        "maximum = np.max(data)\n",
        "range_value = maximum - minimum\n",
        "\n",
        "print(f\"Mean: {mean}\")\n",
        "print(f\"Median: {median}\")\n",
        "print(f\"Standard Deviation: {std_deviation}\")\n",
        "print(f\"Variance: {variance}\")\n",
        "print(f\"Min: {minimum}\")\n",
        "print(f\"Max: {maximum}\")\n",
        "print(f\"Range: {range_value}\")\n"
      ],
      "metadata": {
        "colab": {
          "base_uri": "https://localhost:8080/"
        },
        "id": "bEszF1KiOC3V",
        "outputId": "bd722379-d9d7-4ad2-90fc-ca47dd123361"
      },
      "execution_count": 20,
      "outputs": [
        {
          "output_type": "stream",
          "name": "stdout",
          "text": [
            "Mean: 50.05834214556024\n",
            "Median: 49.997492351707756\n",
            "Standard Deviation: 9.829624309682332\n",
            "Variance: 96.62151406949788\n",
            "Min: 19.804878441791747\n",
            "Max: 89.26237706436326\n",
            "Range: 69.45749862257152\n"
          ]
        }
      ]
    },
    {
      "cell_type": "code",
      "source": [
        "\n",
        "16."
      ],
      "metadata": {
        "id": "f2KlCVmXOHlT"
      },
      "execution_count": null,
      "outputs": []
    },
    {
      "cell_type": "markdown",
      "source": [
        "16.  Plot a boxplot to understand the spread and identify outliers>"
      ],
      "metadata": {
        "id": "DgxtHY8vOLv4"
      }
    },
    {
      "cell_type": "code",
      "source": [
        "import numpy as np\n",
        "import matplotlib.pyplot as plt\n",
        "import seaborn as sns\n",
        "\n",
        "# Simulate a dataset\n",
        "data = np.random.normal(loc=50, scale=10, size=1000)\n",
        "\n",
        "# Create a boxplot using seaborn\n",
        "plt.figure(figsize=(8, 6))\n",
        "sns.boxplot(data=data, color='lightblue')\n",
        "\n",
        "# Add titles and labels\n",
        "plt.title('Boxplot of Simulated Data')\n",
        "plt.xlabel('Values')\n",
        "plt.ylabel('Frequency')\n",
        "\n",
        "# Show the plot\n",
        "plt.show()\n"
      ],
      "metadata": {
        "colab": {
          "base_uri": "https://localhost:8080/",
          "height": 550
        },
        "id": "XtODtGVgONwu",
        "outputId": "6b78e35d-97e4-4e1a-d3d7-d220d9ba7d26"
      },
      "execution_count": 21,
      "outputs": [
        {
          "output_type": "display_data",
          "data": {
            "text/plain": [
              "<Figure size 800x600 with 1 Axes>"
            ],
            "image/png": "[encoded data removed]"
          },
          "metadata": {}
        }
      ]
    },
    {
      "cell_type": "code",
      "source": [
        "\n"
      ],
      "metadata": {
        "id": "xA9HV_EtOTj4"
      },
      "execution_count": null,
      "outputs": []
    },
    {
      "cell_type": "markdown",
      "source": [
        "17. > Calculate the interquartile range (IQR) of a dataset>"
      ],
      "metadata": {
        "id": "lIH86oJrOWBg"
      }
    },
    {
      "cell_type": "code",
      "source": [
        "import numpy as np\n",
        "\n",
        "# Simulate a dataset\n",
        "data = np.random.normal(loc=50, scale=10, size=1000)\n",
        "\n",
        "# Calculate the first and third quartiles\n",
        "Q1 = np.percentile(data, 25)\n",
        "Q3 = np.percentile(data, 75)\n",
        "\n",
        "# Calculate IQR\n",
        "IQR = Q3 - Q1\n",
        "\n",
        "print(f\"Interquartile Range (IQR): {IQR}\")\n"
      ],
      "metadata": {
        "colab": {
          "base_uri": "https://localhost:8080/"
        },
        "id": "ZmZc9IBjOZWQ",
        "outputId": "2aa863eb-d213-40da-df7e-fc9539a7254c"
      },
      "execution_count": 22,
      "outputs": [
        {
          "output_type": "stream",
          "name": "stdout",
          "text": [
            "Interquartile Range (IQR): 13.217280954195786\n"
          ]
        }
      ]
    },
    {
      "cell_type": "markdown",
      "source": [
        "18.  Implement Z-score normalization and explain its significance>"
      ],
      "metadata": {
        "id": "8rAeO5chOihO"
      }
    },
    {
      "cell_type": "code",
      "source": [
        "import numpy as np\n",
        "\n",
        "# Simulate a dataset\n",
        "data = np.random.normal(loc=50, scale=10, size=1000)\n",
        "\n",
        "# Calculate the mean and standard deviation\n",
        "mean = np.mean(data)\n",
        "std_deviation = np.std(data)\n",
        "\n",
        "# Z-score normalization\n",
        "z_scores = (data - mean) / std_deviation\n",
        "\n",
        "# Display first 10 normalized values\n",
        "print(\"First 10 Z-scores of the data:\\n\", z_scores[:10])\n"
      ],
      "metadata": {
        "colab": {
          "base_uri": "https://localhost:8080/"
        },
        "id": "kSpf2CMfOhIh",
        "outputId": "be29c56c-b445-46af-e2c4-e974e4ce062c"
      },
      "execution_count": 23,
      "outputs": [
        {
          "output_type": "stream",
          "name": "stdout",
          "text": [
            "First 10 Z-scores of the data:\n",
            " [-0.37444388 -0.40389552 -1.73694596 -0.28141493  0.77423574 -1.21910049\n",
            "  1.08773076  0.53085724 -0.68279439 -0.09414382]\n"
          ]
        }
      ]
    },
    {
      "cell_type": "markdown",
      "source": [
        "19. Compare two datasets using their standard deviations"
      ],
      "metadata": {
        "id": "QlTNyPlrOukV"
      }
    },
    {
      "cell_type": "code",
      "source": [
        "import numpy as np\n",
        "\n",
        "# Simulate two datasets\n",
        "data1 = np.random.normal(loc=50, scale=10, size=1000)  # Mean 50, SD 10\n",
        "data2 = np.random.normal(loc=50, scale=20, size=1000)  # Mean 50, SD 20\n",
        "\n",
        "# Calculate the standard deviations\n",
        "std_data1 = np.std(data1)\n",
        "std_data2 = np.std(data2)\n",
        "\n",
        "# Print the standard deviations\n",
        "print(f\"Standard Deviation of Dataset 1: {std_data1}\")\n",
        "print(f\"Standard Deviation of Dataset 2: {std_data2}\")\n",
        "\n",
        "# Compare the standard deviations\n",
        "if std_data1 > std_data2:\n",
        "    print(\"Dataset 1 has more variability (higher standard deviation).\")\n",
        "elif std_data1 < std_data2:\n",
        "    print(\"Dataset 2 has more variability (higher standard deviation).\")\n",
        "else:\n",
        "    print(\"Both datasets have the same variability.\")\n",
        "\n"
      ],
      "metadata": {
        "colab": {
          "base_uri": "https://localhost:8080/"
        },
        "id": "HiPkm0kdOsTO",
        "outputId": "4fc37b56-1e52-4c50-9748-43b8b433aec5"
      },
      "execution_count": 24,
      "outputs": [
        {
          "output_type": "stream",
          "name": "stdout",
          "text": [
            "Standard Deviation of Dataset 1: 10.24491863999451\n",
            "Standard Deviation of Dataset 2: 20.82438039123244\n",
            "Dataset 2 has more variability (higher standard deviation).\n"
          ]
        }
      ]
    },
    {
      "cell_type": "code",
      "source": [
        "\n"
      ],
      "metadata": {
        "id": "ZLVPiXMfO5uy"
      },
      "execution_count": null,
      "outputs": []
    },
    {
      "cell_type": "markdown",
      "source": [
        "20. Write a Python program to visualize covariance using a heatmap"
      ],
      "metadata": {
        "id": "NGaXwnsgO7Jp"
      }
    },
    {
      "cell_type": "code",
      "source": [
        "import numpy as np\n",
        "import seaborn as sns\n",
        "import matplotlib.pyplot as plt\n",
        "import pandas as pd\n",
        "\n",
        "# Simulate two datasets\n",
        "np.random.seed(42)\n",
        "data1 = np.random.normal(loc=50, scale=10, size=1000)\n",
        "data2 = np.random.normal(loc=50, scale=15, size=1000)\n",
        "\n",
        "# Create a DataFrame\n",
        "df = pd.DataFrame({'Data1': data1, 'Data2': data2})\n",
        "\n",
        "# Calculate the covariance matrix\n",
        "cov_matrix = df.cov()\n",
        "\n",
        "# Visualize the covariance matrix using a heatmap\n",
        "plt.figure(figsize=(6, 4))\n",
        "sns.heatmap(cov_matrix, annot=True, cmap='coolwarm', fmt='.2f', cbar=True)\n",
        "\n",
        "# Add title and labels\n",
        "plt.title('Covariance Heatmap')\n",
        "plt.show()\n"
      ],
      "metadata": {
        "colab": {
          "base_uri": "https://localhost:8080/",
          "height": 391
        },
        "id": "PEIgbVntO-sO",
        "outputId": "4ed5d353-7664-4c30-db82-2fa6e288bf6e"
      },
      "execution_count": 25,
      "outputs": [
        {
          "output_type": "display_data",
          "data": {
            "text/plain": [
              "<Figure size 600x400 with 2 Axes>"
            ],
            "image/png": "[encoded data removed]"
          },
          "metadata": {}
        }
      ]
    },
    {
      "cell_type": "code",
      "source": [
        "\n"
      ],
      "metadata": {
        "id": "P_R5qqekPCxe"
      },
      "execution_count": null,
      "outputs": []
    },
    {
      "cell_type": "markdown",
      "source": [
        "21. > Use seaborn to create a correlation matrix for a dataset>"
      ],
      "metadata": {
        "id": "e5a_nNtQPF6v"
      }
    },
    {
      "cell_type": "code",
      "source": [
        "import numpy as np\n",
        "import seaborn as sns\n",
        "import matplotlib.pyplot as plt\n",
        "import pandas as pd\n",
        "\n",
        "# Simulate a dataset with multiple variables\n",
        "np.random.seed(42)\n",
        "data = {\n",
        "    'A': np.random.normal(loc=50, scale=10, size=1000),\n",
        "    'B': np.random.normal(loc=60, scale=15, size=1000),\n",
        "    'C': np.random.normal(loc=40, scale=5, size=1000),\n",
        "    'D': np.random.normal(loc=70, scale=20, size=1000)\n",
        "}\n",
        "\n",
        "# Create a DataFrame\n",
        "df = pd.DataFrame(data)\n",
        "\n",
        "# Calculate the correlation matrix\n",
        "correlation_matrix = df.corr()\n",
        "\n",
        "# Create a heatmap of the correlation matrix\n",
        "plt.figure(figsize=(8, 6))\n",
        "sns.heatmap(correlation_matrix, annot=True, cmap='coolwarm', fmt='.2f', cbar=True)\n",
        "\n",
        "# Add title and labels\n",
        "plt.title('Correlation Matrix Heatmap')\n",
        "plt.show()\n"
      ],
      "metadata": {
        "colab": {
          "base_uri": "https://localhost:8080/",
          "height": 545
        },
        "id": "Z6KKmMBHPGxU",
        "outputId": "83b0bc3f-db34-42c3-9bc5-2711b5cf0c31"
      },
      "execution_count": 26,
      "outputs": [
        {
          "output_type": "display_data",
          "data": {
            "text/plain": [
              "<Figure size 800x600 with 2 Axes>"
            ],
            "image/png": "[encoded data removed]"
          },
          "metadata": {}
        }
      ]
    },
    {
      "cell_type": "code",
      "source": [
        "\n"
      ],
      "metadata": {
        "id": "0WIYt-bsPKqq"
      },
      "execution_count": null,
      "outputs": []
    },
    {
      "cell_type": "markdown",
      "source": [
        "22. > Generate a dataset and implement both variance and standard deviation computations"
      ],
      "metadata": {
        "id": "y-rFxVibPNMx"
      }
    },
    {
      "cell_type": "code",
      "source": [
        "import numpy as np\n",
        "\n",
        "# Generate a dataset of 1000 random numbers from a normal distribution\n",
        "np.random.seed(42)  # For reproducibility\n",
        "data = np.random.normal(loc=50, scale=10, size=1000)  # Mean = 50, Std Dev = 10\n",
        "\n",
        "# Compute the variance\n",
        "variance = np.var(data)\n",
        "\n",
        "# Compute the standard deviation\n",
        "std_deviation = np.std(data)\n",
        "\n",
        "# Print the results\n",
        "print(f\"Variance: {variance}\")\n",
        "print(f\"Standard Deviation: {std_deviation}\")\n"
      ],
      "metadata": {
        "colab": {
          "base_uri": "https://localhost:8080/"
        },
        "id": "H71D72VIPR9X",
        "outputId": "375253e3-6fe8-445f-e8fe-193ae9c74668"
      },
      "execution_count": 27,
      "outputs": [
        {
          "output_type": "stream",
          "name": "stdout",
          "text": [
            "Variance: 95.79049897315173\n",
            "Standard Deviation: 9.787262077473542\n"
          ]
        }
      ]
    },
    {
      "cell_type": "markdown",
      "source": [
        "23. Visualize skewness and kurtosis using Python libraries like matplotlib or seaborn"
      ],
      "metadata": {
        "id": "8ea_bnp3PYHW"
      }
    },
    {
      "cell_type": "code",
      "source": [
        "import numpy as np\n",
        "import seaborn as sns\n",
        "import matplotlib.pyplot as plt\n",
        "from scipy.stats import skew, kurtosis\n",
        "\n",
        "# Generate a dataset (normal distribution for no skewness or kurtosis)\n",
        "np.random.seed(42)\n",
        "data_normal = np.random.normal(loc=50, scale=10, size=1000)\n",
        "\n",
        "# Create a dataset with positive skew\n",
        "data_positive_skew = np.random.exponential(scale=10, size=1000)\n",
        "\n",
        "# Create a dataset with negative skew\n",
        "data_negative_skew = -np.random.exponential(scale=10, size=1000)\n",
        "\n",
        "# Calculate skewness and kurtosis for each dataset\n",
        "skew_normal = skew(data_normal)\n",
        "kurt_normal = kurtosis(data_normal)\n",
        "\n",
        "skew_positive = skew(data_positive_skew)\n",
        "kurt_positive = kurtosis(data_positive_skew)\n",
        "\n",
        "skew_negative = skew(data_negative_skew)\n",
        "kurt_negative = kurtosis(data_negative_skew)\n",
        "\n",
        "# Plot histograms to visualize\n",
        "fig, axes = plt.subplots(1, 3, figsize=(18, 6))\n",
        "\n",
        "# Plot normal distribution\n",
        "sns.histplot(data_normal, kde=True, ax=axes[0], color='skyblue')\n",
        "axes[0].set_title(f'Normal Distribution\\nSkewness: {skew_normal:.2f}, Kurtosis: {kurt_normal:.2f}')\n",
        "\n",
        "# Plot positive skew distribution\n",
        "sns.histplot(data_positive_skew, kde=True, ax=axes[1], color='salmon')\n",
        "axes[1].set_title(f'Positive Skew\\nSkewness: {skew_positive:.2f}, Kurtosis: {kurt_positive:.2f}')\n",
        "\n",
        "# Plot negative skew distribution\n",
        "sns.histplot(data_negative_skew, kde=True, ax=axes[2], color='lightgreen')\n",
        "axes[2].set_title(f'Negative Skew\\nSkewness: {skew_negative:.2f}, Kurtosis: {kurt_negative:.2f}')\n",
        "\n",
        "plt.tight_layout()\n",
        "plt.show()\n"
      ],
      "metadata": {
        "colab": {
          "base_uri": "https://localhost:8080/",
          "height": 431
        },
        "id": "xaW8CURyPXZO",
        "outputId": "ee420674-6b4a-428c-d885-32f76e13dbad"
      },
      "execution_count": 28,
      "outputs": [
        {
          "output_type": "display_data",
          "data": {
            "text/plain": [
              "<Figure size 1800x600 with 3 Axes>"
            ],
            "image/png": "[encoded data removed]"
          },
          "metadata": {}
        }
      ]
    },
    {
      "cell_type": "code",
      "source": [
        "\n"
      ],
      "metadata": {
        "id": "MiOCpaN_Pg7E"
      },
      "execution_count": null,
      "outputs": []
    },
    {
      "cell_type": "markdown",
      "source": [
        "24. Implement the Pearson and Spearman correlation coefficients for a dataset."
      ],
      "metadata": {
        "id": "ti6-OhBgPi09"
      }
    },
    {
      "cell_type": "code",
      "source": [
        "import numpy as np\n",
        "from scipy.stats import pearsonr, spearmanr\n",
        "\n",
        "# Simulate two datasets\n",
        "np.random.seed(42)\n",
        "data1 = np.random.normal(loc=50, scale=10, size=1000)\n",
        "data2 = data1 + np.random.normal(loc=0, scale=5, size=1000)  # Adding some noise to make it less than perfect correlation\n",
        "\n",
        "# Pearson correlation\n",
        "pearson_corr, _ = pearsonr(data1, data2)\n",
        "\n",
        "# Spearman correlation\n",
        "spearman_corr, _ = spearmanr(data1, data2)\n",
        "\n",
        "# Print the results\n",
        "print(f\"Pearson Correlation Coefficient: {pearson_corr:.2f}\")\n",
        "print(f\"Spearman Correlation Coefficient: {spearman_corr:.2f}\")\n"
      ],
      "metadata": {
        "colab": {
          "base_uri": "https://localhost:8080/"
        },
        "id": "62j3akb1PmT9",
        "outputId": "fb80f42c-5208-4c51-e572-210c1acef4b7"
      },
      "execution_count": 29,
      "outputs": [
        {
          "output_type": "stream",
          "name": "stdout",
          "text": [
            "Pearson Correlation Coefficient: 0.89\n",
            "Spearman Correlation Coefficient: 0.88\n"
          ]
        }
      ]
    },
    {
      "cell_type": "code",
      "source": [],
      "metadata": {
        "id": "tkJuaCIaPqcl"
      },
      "execution_count": null,
      "outputs": []
    }
  ]
}