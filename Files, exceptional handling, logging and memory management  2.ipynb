{
  "nbformat": 4,
  "nbformat_minor": 0,
  "metadata": {
    "colab": {
      "provenance": [],
      "authorship_tag": "ABX9TyPBouT3FTblDC2Lusa4I3iW",
      "include_colab_link": true
    },
    "kernelspec": {
      "name": "python3",
      "display_name": "Python 3"
    },
    "language_info": {
      "name": "python"
    }
  },
  "cells": [
    {
      "cell_type": "markdown",
      "metadata": {
        "id": "view-in-github",
        "colab_type": "text"
      },
      "source": [
        "<a href=\"https://colab.research.google.com/github/Sahi-nag/Datatype-and-structures-assignment/blob/main/Files%2C%20exceptional%20handling%2C%20logging%20and%20memory%20management%20%202.ipynb\" target=\"_parent\"><img src=\"https://colab.research.google.com/assets/colab-badge.svg\" alt=\"Open In Colab\"/></a>"
      ]
    },
    {
      "cell_type": "markdown",
      "source": [],
      "metadata": {
        "id": "NuNJK9lZspUZ"
      }
    },
    {
      "cell_type": "code",
      "execution_count": null,
      "metadata": {
        "id": "cltSzA0cse3z"
      },
      "outputs": [],
      "source": []
    },
    {
      "cell_type": "markdown",
      "source": [
        "Files, exceptional handling, logging and\n",
        "memory management Questions\n",
        "\n",
        "1. What is the difference between interpreted and compiled languages?\n",
        "-> Interpreted languages execute code line-by-line at runtime (e.g., Python), while compiled languages convert the entire code into machine language before execution (e.g., C++). Compiled languages usually run faster, whereas interpreted ones are more flexible for quick changes.\n",
        "\n",
        "2. What is exception handling in Python?\n",
        "-> Exception handling in Python is a way to manage errors using try, except, else, and finally blocks. It prevents programs from crashing by handling unexpected situations gracefully.\n",
        "\n",
        "3. What is the purpose of the finally block in exception handling?\n",
        "-> The finally block in Python is used to define code that runs no matter what—whether an exception occurs or not. It's typically used for cleanup actions like closing files or releasing resources.\n",
        "\n",
        "4.  What is logging in Python?\n",
        "-> Logging in Python is the process of recording messages that describe events or errors in a program. It helps in debugging and monitoring by keeping track of the program’s flow and issues using the logging module.\n",
        "\n",
        "5.  What is the significance of the __del__ method in Python?\n",
        "-> The __del__ method in Python is a destructor that is called when an object is about to be destroyed. It’s used to clean up resources like closing files or releasing memory before the object is deleted.\n",
        "\n",
        "6. What is the difference between import and from ... import in Python?\n",
        "-> import brings in the entire module (e.g., import math), so you access functions with module.function.\n",
        "from ... import lets you import specific parts (e.g., from math import sqrt) and use them directly without the module name.\n",
        "\n",
        "7. How can you handle multiple exceptions in Python?\n",
        "-> You can handle multiple exceptions in Python by using multiple except blocks or grouping them in a single block with parentheses.\n",
        "\n",
        "8. What is the purpose of the with statement when handling files in Python?\n",
        "-> The with statement in Python is used to handle files safely and efficiently. It automatically manages opening and closing the file, even if an error occurs, reducing the risk of resource leaks.\n",
        "\n",
        "9. What is the difference between multithreading and multiprocessing?\n",
        "-> Multithreading allows multiple threads to run in the same process, sharing memory space, which is good for I/O-bound tasks.\n",
        "Multiprocessing runs separate processes with their own memory, better for CPU-bound tasks as it avoids the Global Interpreter Lock (GIL).\n",
        "\n",
        "10. What are the advantages of using logging in a program?\n",
        "-> ​Implementing logging in a program offers several advantages:\n",
        "Debugging and Troubleshooting: Logs provide detailed information about system behavior, helping developers identify and resolve issues efficiently.\n",
        "Performance Monitoring: By tracking metrics like response times and resource usage, logs assist in identifying performance bottlenecks and optimizing system performance.\n",
        "Security and Auditing: Logs record access and modification events, aiding in detecting unauthorized access and ensuring compliance with security standards.\n",
        "Compliance: Many industries require detailed logging to meet regulatory standards, ensuring that organizations adhere to legal and security requirements.\n",
        "In summary, logging enhances a program's reliability, performance, security, and compliance, making it an essential practice in software development.\n",
        "\n",
        "11. What is memory management in Python?\n",
        "-> ​Memory management in Python involves automatic handling of memory allocation and deallocation. It employs reference counting to track object references and utilizes garbage collection to reclaim memory from objects that are no longer in use.\n",
        "\n",
        "12. What are the basic steps involved in exception handling in Python?\n",
        "> ​In Python, exception handling involves the following basic steps:\n",
        "try Block: Place the code that might raise an exception inside the try block.\n",
        "except Block: Specify the exception type(s) to catch and handle them appropriately.\n",
        "else Block (optional): Execute code if no exceptions were raised in the try block.\n",
        "finally Block: Execute cleanup code, regardless of whether an exception occurred or not.\n",
        "This structure allows for robust error handling and resource management in Python programs.\n",
        "\n",
        "13. Why is memory management important in Python?\n",
        "-> ​Memory management in Python is crucial for optimizing performance and preventing issues like memory leaks. By efficiently allocating and deallocating memory, Python ensures that resources are used effectively, leading to more reliable and faster applications.\n",
        "\n",
        "14. What is the role of try and except in exception handling?\n",
        "-> ​In Python, the try block allows to write code that might raise exceptions, while the except block lets handle those exceptions gracefully. This mechanism prevents your program from crashing and enables to manage errors effectively.\n",
        "\n",
        "15. How does Python's garbage collection system work?\n",
        "-> Python employs a dual garbage collection strategy: reference counting and cyclic garbage collection. Reference counting tracks the number of references to each object; when this count drops to zero, the object's memory is immediately deallocated. However, this method doesn't handle circular references. To address this, Python's cyclic garbage collector identifies and cleans up groups of objects involved in reference cycles that are no longer accessible from the program, preventing memory leaks .\n",
        "\n",
        "16. What is the purpose of the else block in exception handling?\n",
        "-> ​The else block in Python's exception handling structure is executed only if no exceptions are raised in the try block. It allows you to separate code that should run when the try block succeeds from code that handles errors, enhancing readability and preventing unintended exception handling.\n",
        "\n",
        "17. What are the common logging levels in Python?\n",
        "-> The common logging levels in Python are: DEBUG, INFO, WARNING, ERROR, and CRITICAL. They indicate the severity of events, from detailed debugging info to critical system failures.\n",
        "\n",
        "18. What is the difference between os.fork() and multiprocessing in Python?\n",
        "-> os.fork() creates a child process by duplicating the current process at the OS level, available only on Unix-like systems. multiprocessing is a cross-platform Python module that provides a higher-level interface for creating and managing processes, with better support for communication and synchronization between them.\n",
        "\n",
        "19. What is the importance of closing a file in Python?\n",
        "> Closing a file in Python is important because it frees up system resources and ensures that all data is properly written to the file (especially in write mode). It also helps prevent data corruption and potential file access issues.\n",
        "\n",
        "20. What is the difference between file.read() and file.readline() in Python?\n",
        "-> file.read() reads the entire content of the file as a single string, while file.readline() reads one line at a time from the file. Use readline() when you want to process a file line by line.\n",
        "\n",
        "21. What is the logging module in Python used for?\n",
        "-> The logging module in Python is used to record messages about a program’s execution, such as errors, warnings, or informational events. It helps in debugging and monitoring by writing logs to the console, files, or other outputs.\n",
        "\n",
        "22. What is the os module in Python used for in file handling?\n",
        "-> The os module in Python is used for interacting with the operating system, especially for file handling tasks like creating, deleting, renaming files/directories, and navigating the file system (e.g., using os.remove(), os.rename(), os.listdir(), etc.).\n",
        "\n",
        "23. What are the challenges associated with memory management in Python?\n",
        "-> Memory management in Python can be challenging due to issues like memory leaks from circular references and performance overhead from garbage collection. The Global Interpreter Lock (GIL) also limits efficient memory use in multi-threaded programs.\n",
        "\n",
        "24. How do you raise an exception manually in Python?\n",
        "-> In Python, we can raise an exception manually using the raise keyword, followed by the exception class.\n",
        "\n",
        "25. Why is it important to use multithreading in certain applications?\n",
        "-> Multithreading is important in certain applications because it allows for concurrent execution of tasks, improving efficiency and responsiveness. It is especially useful for I/O-bound operations (like file handling, network requests) and for utilizing multi-core processors in CPU-bound tasks, leading to better resource utilization and faster performance."
      ],
      "metadata": {
        "id": "ArKtYrQTsshf"
      }
    },
    {
      "cell_type": "code",
      "source": [],
      "metadata": {
        "id": "PTKEBhgm-R4B"
      },
      "execution_count": null,
      "outputs": []
    },
    {
      "cell_type": "markdown",
      "source": [
        "**Practical Questions**"
      ],
      "metadata": {
        "id": "GlOrQC9K-TXH"
      }
    },
    {
      "cell_type": "code",
      "source": [],
      "metadata": {
        "id": "McHLodje-V4Y"
      },
      "execution_count": null,
      "outputs": []
    },
    {
      "cell_type": "markdown",
      "source": [
        "1. How can you open a file for writing in Python and write a string to it?"
      ],
      "metadata": {
        "id": "wZgIR7nn-e9_"
      }
    },
    {
      "cell_type": "code",
      "source": [
        "with open('file.txt', 'w') as file:\n",
        "    file.write(\"Hello, \")\n"
      ],
      "metadata": {
        "id": "jz24LTEm-mSI"
      },
      "execution_count": null,
      "outputs": []
    },
    {
      "cell_type": "code",
      "source": [],
      "metadata": {
        "id": "9zFG8V7l_QrQ"
      },
      "execution_count": null,
      "outputs": []
    },
    {
      "cell_type": "markdown",
      "source": [
        "2. Write a Python program to read the contents of a file and print each line?\n"
      ],
      "metadata": {
        "id": "YmqTP9Jv_clw"
      }
    },
    {
      "cell_type": "code",
      "source": [
        "# Open the file in read mode\n",
        "with open('file.txt', 'r') as file:\n",
        "    # Read each line and print it\n",
        "    for line in file:\n",
        "        print(line, end='')  # 'end' is used to avoid adding extra newlines\n"
      ],
      "metadata": {
        "colab": {
          "base_uri": "https://localhost:8080/"
        },
        "id": "7MuVJ0Nw_iuK",
        "outputId": "b629335c-f805-4939-bc90-a996fe6a5b70"
      },
      "execution_count": null,
      "outputs": [
        {
          "output_type": "stream",
          "name": "stdout",
          "text": [
            "Hello, "
          ]
        }
      ]
    },
    {
      "cell_type": "code",
      "source": [],
      "metadata": {
        "id": "l7eJdth9_qnA"
      },
      "execution_count": null,
      "outputs": []
    },
    {
      "cell_type": "markdown",
      "source": [
        "3.  How would you handle a case where the file doesn't exist while trying to open it for reading?"
      ],
      "metadata": {
        "id": "lQqoSDMr_tzy"
      }
    },
    {
      "cell_type": "code",
      "source": [
        "try:\n",
        "    with open(\"example.txt\", \"r\") as file:\n",
        "        content = file.read()\n",
        "        print(content)\n",
        "except FileNotFoundError:\n",
        "    print(\"The file does not exist.\")\n"
      ],
      "metadata": {
        "colab": {
          "base_uri": "https://localhost:8080/"
        },
        "id": "_apbuf9_Hbfr",
        "outputId": "db2e4b82-e3c6-4d9a-d209-497386d82bf6"
      },
      "execution_count": null,
      "outputs": [
        {
          "output_type": "stream",
          "name": "stdout",
          "text": [
            "The file does not exist.\n"
          ]
        }
      ]
    },
    {
      "cell_type": "code",
      "source": [],
      "metadata": {
        "id": "nF7AgvMfHhil"
      },
      "execution_count": null,
      "outputs": []
    },
    {
      "cell_type": "markdown",
      "source": [
        "4.  Write a Python script that reads from one file and writes its content to another file"
      ],
      "metadata": {
        "id": "MJxPNOwiHlwj"
      }
    },
    {
      "cell_type": "code",
      "source": [],
      "metadata": {
        "id": "urwiT_VlIG0q"
      },
      "execution_count": null,
      "outputs": []
    },
    {
      "cell_type": "code",
      "source": [
        "# Open the source file in read mode and the destination file in write mode\n",
        "# Check if the source file exists before opening it\n",
        "import os\n",
        "\n",
        "if os.path.exists('source.txt'):\n",
        "    with open('source.txt', 'r') as source_file:\n",
        "        with open('destination.txt', 'w') as destination_file:\n",
        "            # Read content from the source file and write to the destination file\n",
        "            content = source_file.read()\n",
        "            destination_file.write(content)\n",
        "\n",
        "    print(\"Content has been copied from source.txt to destination.txt\")\n",
        "else:\n",
        "    print(\"Source file 'source.txt' not found.\")"
      ],
      "metadata": {
        "colab": {
          "base_uri": "https://localhost:8080/"
        },
        "id": "mOqZlHVkIs6q",
        "outputId": "fd444ee2-357d-4043-d12f-4a5ff445d141"
      },
      "execution_count": null,
      "outputs": [
        {
          "output_type": "stream",
          "name": "stdout",
          "text": [
            "Source file 'source.txt' not found.\n"
          ]
        }
      ]
    },
    {
      "cell_type": "code",
      "source": [],
      "metadata": {
        "id": "gBr_zr2CKmvN"
      },
      "execution_count": null,
      "outputs": []
    },
    {
      "cell_type": "markdown",
      "source": [
        "5. How would you catch and handle division by zero error in Python?"
      ],
      "metadata": {
        "id": "X1X8WDuIKydE"
      }
    },
    {
      "cell_type": "code",
      "source": [
        "try:\n",
        "    result = 10 / 0\n",
        "except ZeroDivisionError:\n",
        "    print(\"Error: Cannot divide by zero.\")\n"
      ],
      "metadata": {
        "colab": {
          "base_uri": "https://localhost:8080/"
        },
        "id": "XlrsFDWWLC--",
        "outputId": "54b48119-892b-4dfa-9c16-d6aedb1c1201"
      },
      "execution_count": null,
      "outputs": [
        {
          "output_type": "stream",
          "name": "stdout",
          "text": [
            "Error: Cannot divide by zero.\n"
          ]
        }
      ]
    },
    {
      "cell_type": "code",
      "source": [],
      "metadata": {
        "id": "bqSDkzFBLVyM"
      },
      "execution_count": null,
      "outputs": []
    },
    {
      "cell_type": "markdown",
      "source": [
        "6. Write a Python program that logs an error message to a log file when a division by zero exception occurs"
      ],
      "metadata": {
        "id": "W2du-54CSbCR"
      }
    },
    {
      "cell_type": "code",
      "source": [
        "import logging\n",
        "\n",
        "# Configure logging to write to a file\n",
        "logging.basicConfig(filename='error.log', level=logging.ERROR, format='%(asctime)s - %(levelname)s - %(message)s')\n",
        "\n",
        "try:\n",
        "    result = 10 / 0\n",
        "except ZeroDivisionError:\n",
        "    logging.error(\"Attempted to divide by zero.\")\n",
        "\n",
        "print(\"Finished. Check 'error.log' for logged errors.\")\n"
      ],
      "metadata": {
        "colab": {
          "base_uri": "https://localhost:8080/"
        },
        "id": "njTEpru7Se0x",
        "outputId": "b8bee880-ffe5-4f0f-c86f-e6a41ad017cc"
      },
      "execution_count": 1,
      "outputs": [
        {
          "output_type": "stream",
          "name": "stderr",
          "text": [
            "ERROR:root:Attempted to divide by zero.\n"
          ]
        },
        {
          "output_type": "stream",
          "name": "stdout",
          "text": [
            "Finished. Check 'error.log' for logged errors.\n"
          ]
        }
      ]
    },
    {
      "cell_type": "code",
      "source": [],
      "metadata": {
        "id": "VNP_eChMSkDn"
      },
      "execution_count": null,
      "outputs": []
    },
    {
      "cell_type": "markdown",
      "source": [
        "7. How do you log information at different levels (INFO, ERROR, WARNING) in Python using the logging module"
      ],
      "metadata": {
        "id": "oM_gRvQYSrfZ"
      }
    },
    {
      "cell_type": "code",
      "source": [
        "import logging\n",
        "\n",
        "# Configure logging\n",
        "logging.basicConfig(level=logging.DEBUG, format='%(levelname)s: %(message)s')\n",
        "\n",
        "# Log messages at different levels\n",
        "logging.info(\"This is an info message.\")\n",
        "logging.warning(\"This is a warning message.\")\n",
        "logging.error(\"This is an error message.\")\n"
      ],
      "metadata": {
        "colab": {
          "base_uri": "https://localhost:8080/"
        },
        "id": "H7W8EhGiSw9R",
        "outputId": "705bd1d7-a00f-4a87-f91a-249a4713796a"
      },
      "execution_count": 2,
      "outputs": [
        {
          "output_type": "stream",
          "name": "stderr",
          "text": [
            "WARNING:root:This is a warning message.\n",
            "ERROR:root:This is an error message.\n"
          ]
        }
      ]
    },
    {
      "cell_type": "code",
      "source": [
        "8."
      ],
      "metadata": {
        "id": "sDh-DPvkS2hS"
      },
      "execution_count": null,
      "outputs": []
    },
    {
      "cell_type": "markdown",
      "source": [
        "8. Write a program to handle a file opening error using exception handling"
      ],
      "metadata": {
        "id": "xZ31SL_7S7hP"
      }
    },
    {
      "cell_type": "code",
      "source": [
        "try:\n",
        "    with open('nonexistent_file.txt', 'r') as file:\n",
        "        content = file.read()\n",
        "        print(content)\n",
        "except FileNotFoundError:\n",
        "    print(\"Error: The file could not be found.\")\n"
      ],
      "metadata": {
        "colab": {
          "base_uri": "https://localhost:8080/"
        },
        "id": "HL9m4x5RS9ZX",
        "outputId": "321adb3c-4b89-4b33-bef8-8c20e992defb"
      },
      "execution_count": 3,
      "outputs": [
        {
          "output_type": "stream",
          "name": "stdout",
          "text": [
            "Error: The file could not be found.\n"
          ]
        }
      ]
    },
    {
      "cell_type": "code",
      "source": [],
      "metadata": {
        "id": "9KAVqIblTBrh"
      },
      "execution_count": null,
      "outputs": []
    },
    {
      "cell_type": "markdown",
      "source": [
        "9. How can you read a file line by line and store its content in a list in Python"
      ],
      "metadata": {
        "id": "BwnGYs-8TC3o"
      }
    },
    {
      "cell_type": "code",
      "source": [
        "import os\n",
        "\n",
        "# Check if the file exists\n",
        "if os.path.exists('file.txt'):\n",
        "    with open('file.txt', 'r') as file:\n",
        "        lines = file.readlines()\n",
        "    with open('file.txt', 'r') as file:\n",
        "        lines = [line.strip() for line in file]\n",
        "else:\n",
        "    print(\"Error: The file 'file.txt' does not exist in the current directory.\")"
      ],
      "metadata": {
        "colab": {
          "base_uri": "https://localhost:8080/"
        },
        "id": "GFogOoVyTRPv",
        "outputId": "2774a5a4-6aad-4e56-99f3-0212394e9f52"
      },
      "execution_count": 6,
      "outputs": [
        {
          "output_type": "stream",
          "name": "stdout",
          "text": [
            "Error: The file 'file.txt' does not exist in the current directory.\n"
          ]
        }
      ]
    },
    {
      "cell_type": "code",
      "source": [],
      "metadata": {
        "id": "YKjrT9HcTcaA"
      },
      "execution_count": null,
      "outputs": []
    },
    {
      "cell_type": "markdown",
      "source": [
        "10.  How can you append data to an existing file in Python"
      ],
      "metadata": {
        "id": "j5lh-7VtTi7g"
      }
    },
    {
      "cell_type": "code",
      "source": [
        "with open('example.txt', 'a') as file:\n",
        "    file.write(\"\\nThis line is added to the existing file.\")\n"
      ],
      "metadata": {
        "id": "vRb0_bfuTqB1"
      },
      "execution_count": 7,
      "outputs": []
    },
    {
      "cell_type": "code",
      "source": [],
      "metadata": {
        "id": "e0NZcssJT0Qn"
      },
      "execution_count": null,
      "outputs": []
    },
    {
      "cell_type": "markdown",
      "source": [
        "11. &F Write a Python program that uses a try-except block to handle an error when attempting to access a\n",
        "dictionary key that doesn't exist"
      ],
      "metadata": {
        "id": "Wuy5BgtrT1vA"
      }
    },
    {
      "cell_type": "code",
      "source": [
        "my_dict = {'name': 'Alice', 'age': 25}\n",
        "\n",
        "try:\n",
        "    print(my_dict['address'])  # This key does not exist\n",
        "except KeyError:\n",
        "    print(\"Error: The key 'address' does not exist in the dictionary.\")\n"
      ],
      "metadata": {
        "colab": {
          "base_uri": "https://localhost:8080/"
        },
        "id": "hbTJPw-yT5lJ",
        "outputId": "b26d79d6-e910-4a9a-b397-fe57c4478dd5"
      },
      "execution_count": 8,
      "outputs": [
        {
          "output_type": "stream",
          "name": "stdout",
          "text": [
            "Error: The key 'address' does not exist in the dictionary.\n"
          ]
        }
      ]
    },
    {
      "cell_type": "code",
      "source": [],
      "metadata": {
        "id": "XKbLCFrZT_dQ"
      },
      "execution_count": null,
      "outputs": []
    },
    {
      "cell_type": "markdown",
      "source": [
        "12.  Write a program that demonstrates using multiple except blocks to handle different types of exceptions"
      ],
      "metadata": {
        "id": "u8fWVtjWUBsr"
      }
    },
    {
      "cell_type": "code",
      "source": [
        "try:\n",
        "    num = int(input(\"Enter a number: \"))\n",
        "    result = 10 / num\n",
        "    print(\"Result:\", result)\n",
        "    my_list = [1, 2, 3]\n",
        "    print(my_list[5])  # IndexError\n",
        "except ZeroDivisionError:\n",
        "    print(\"Error: Cannot divide by zero.\")\n",
        "except ValueError:\n",
        "    print(\"Error: Invalid input. Please enter a number.\")\n",
        "except IndexError:\n",
        "    print(\"Error: List index out of range.\")\n"
      ],
      "metadata": {
        "id": "rX6H2aajUHq5"
      },
      "execution_count": null,
      "outputs": []
    },
    {
      "cell_type": "code",
      "source": [],
      "metadata": {
        "id": "i1zAZEIpUNU-"
      },
      "execution_count": null,
      "outputs": []
    },
    {
      "cell_type": "markdown",
      "source": [
        "13. F How would you check if a file exists before attempting to read it in Python"
      ],
      "metadata": {
        "id": "K1wfxe2PUQPy"
      }
    },
    {
      "cell_type": "code",
      "source": [
        "import os\n",
        "\n",
        "file_path = 'file.txt'\n",
        "\n",
        "if os.path.exists(file_path):\n",
        "    with open(file_path, 'r') as file:\n",
        "        content = file.read()\n",
        "        print(content)\n",
        "else:\n",
        "    print(f\"Error: {file_path} does not exist.\")\n"
      ],
      "metadata": {
        "id": "DljLB8N7UVDO"
      },
      "execution_count": null,
      "outputs": []
    },
    {
      "cell_type": "code",
      "source": [],
      "metadata": {
        "id": "86T7wGawUadR"
      },
      "execution_count": null,
      "outputs": []
    },
    {
      "cell_type": "markdown",
      "source": [
        "14. F Write a program that uses the logging module to log both informational and error messages"
      ],
      "metadata": {
        "id": "coStNYdHUbnN"
      }
    },
    {
      "cell_type": "code",
      "source": [
        "import logging\n",
        "\n",
        "# Configure logging to write to a file with a specific format\n",
        "logging.basicConfig(filename='app.log', level=logging.DEBUG,\n",
        "                    format='%(asctime)s - %(levelname)s - %(message)s')\n",
        "\n",
        "# Log an informational message\n",
        "logging.info(\"This is an informational message.\")\n",
        "\n",
        "try:\n",
        "    # Simulating an error by dividing by zero\n",
        "    result = 10 / 0\n",
        "except ZeroDivisionError:\n",
        "    # Log an error message\n",
        "    logging.error(\"Error: Attempted to divide by zero.\")\n",
        "\n",
        "print(\"Messages have been logged to 'app.log'.\")\n"
      ],
      "metadata": {
        "id": "ayF4izX8Ur4y"
      },
      "execution_count": null,
      "outputs": []
    },
    {
      "cell_type": "code",
      "source": [],
      "metadata": {
        "id": "--nJt69tUy6h"
      },
      "execution_count": null,
      "outputs": []
    },
    {
      "cell_type": "markdown",
      "source": [
        "15. Write a Python program that prints the content of a file and handles the case when the file is empty"
      ],
      "metadata": {
        "id": "LN6fYDXDU4C2"
      }
    },
    {
      "cell_type": "code",
      "source": [
        "try:\n",
        "    with open('file.txt', 'r') as file:\n",
        "        content = file.read()\n",
        "        if content:\n",
        "            print(content)\n",
        "        else:\n",
        "            print(\"The file is empty.\")\n",
        "except FileNotFoundError:\n",
        "    print(\"Error: The file does not exist.\")\n"
      ],
      "metadata": {
        "id": "LyFDr1SgVCJE"
      },
      "execution_count": null,
      "outputs": []
    },
    {
      "cell_type": "code",
      "source": [],
      "metadata": {
        "id": "yZ70whCKVDOk"
      },
      "execution_count": null,
      "outputs": []
    },
    {
      "cell_type": "markdown",
      "source": [
        "16. Demonstrate how to use memory profiling to check the memory usage of a small program"
      ],
      "metadata": {
        "id": "7DXVQC_9VJLS"
      }
    },
    {
      "cell_type": "code",
      "source": [
        "from memory_profiler import profile\n",
        "\n",
        "# Define a function that we want to profile\n",
        "@profile\n",
        "def my_function():\n",
        "    a = [i for i in range(100000)]  # Create a large list\n",
        "    b = [i * 2 for i in a]          # Create another list based on the first\n",
        "    del b                          # Delete one list to see memory changes\n",
        "    return a\n",
        "\n",
        "if __name__ == \"__main__\":\n",
        "    my_function()\n"
      ],
      "metadata": {
        "id": "NonUJvGWVUMR"
      },
      "execution_count": null,
      "outputs": []
    },
    {
      "cell_type": "code",
      "source": [],
      "metadata": {
        "id": "6WwIA6fjVrUk"
      },
      "execution_count": null,
      "outputs": []
    },
    {
      "cell_type": "markdown",
      "source": [
        "17.  Write a Python program to create and write a list of numbers to a file, one number per line"
      ],
      "metadata": {
        "id": "JUHh-8ugVscG"
      }
    },
    {
      "cell_type": "code",
      "source": [
        "# List of numbers to write to the file\n",
        "numbers = [1, 2, 3, 4, 5, 6, 7, 8, 9, 10]\n",
        "\n",
        "# Open the file in write mode\n",
        "with open('numbers.txt', 'w') as file:\n",
        "    for number in numbers:\n",
        "        file.write(f\"{number}\\n\")  # Write each number followed by a newline\n",
        "\n",
        "print(\"Numbers have been written to 'numbers.txt'.\")\n"
      ],
      "metadata": {
        "id": "LqBsZFk6VwNw"
      },
      "execution_count": null,
      "outputs": []
    },
    {
      "cell_type": "code",
      "source": [],
      "metadata": {
        "id": "-5XwvxwLV0LI"
      },
      "execution_count": null,
      "outputs": []
    },
    {
      "cell_type": "markdown",
      "source": [
        "18.  How would you implement a basic logging setup that logs to a file with rotation after 1MB"
      ],
      "metadata": {
        "id": "VGOPBFGiV0yv"
      }
    },
    {
      "cell_type": "code",
      "source": [
        "import logging\n",
        "from logging.handlers import RotatingFileHandler\n",
        "\n",
        "# Create a logger\n",
        "logger = logging.getLogger('my_logger')\n",
        "logger.setLevel(logging.DEBUG)\n",
        "\n",
        "# Create a rotating file handler that logs to 'app.log', with a max size of 1MB and keeping 3 backup files\n",
        "handler = RotatingFileHandler('app.log', maxBytes=1*1024*1024, backupCount=3)\n",
        "\n",
        "# Create a formatter that specifies the log message format\n",
        "formatter = logging.Formatter('%(asctime)s - %(levelname)s - %(message)s')\n",
        "handler.setFormatter(formatter)\n",
        "\n",
        "# Add the handler to the logger\n",
        "logger.addHandler(handler)\n",
        "\n",
        "# Example log messages\n",
        "logger.debug(\"This is a debug message.\")\n",
        "logger.info(\"This is an info message.\")\n",
        "logger.warning(\"This is a warning message.\")\n",
        "logger.error(\"This is an error message.\")\n",
        "logger.critical(\"This is a critical message.\")\n",
        "\n",
        "print(\"Logs are being written to 'app.log' with rotation after 1MB.\")\n"
      ],
      "metadata": {
        "id": "_IiwIUsJV7_h"
      },
      "execution_count": null,
      "outputs": []
    },
    {
      "cell_type": "code",
      "source": [],
      "metadata": {
        "id": "b1aWFEQKV8f3"
      },
      "execution_count": null,
      "outputs": []
    },
    {
      "cell_type": "markdown",
      "source": [
        "19.  Write a program that handles both IndexError and KeyError using a try-except blockF"
      ],
      "metadata": {
        "id": "mlYthFM-XGgz"
      }
    },
    {
      "cell_type": "code",
      "source": [
        "# Sample data\n",
        "my_list = [1, 2, 3]\n",
        "my_dict = {'name': 'Alice', 'age': 25}\n",
        "\n",
        "try:\n",
        "    # Attempt to access an index that doesn't exist\n",
        "    print(my_list[5])\n",
        "except IndexError:\n",
        "    print(\"Error: Index out of range in the list.\")\n",
        "\n",
        "try:\n",
        "    # Attempt to access a key that doesn't exist\n",
        "    print(my_dict['address'])\n",
        "except KeyError:\n",
        "    print(\"Error: Key 'address' does not exist in the dictionary.\")\n"
      ],
      "metadata": {
        "id": "hk_IQZR3XIsy"
      },
      "execution_count": null,
      "outputs": []
    },
    {
      "cell_type": "code",
      "source": [],
      "metadata": {
        "id": "pn8RvPl4XNr7"
      },
      "execution_count": null,
      "outputs": []
    },
    {
      "cell_type": "markdown",
      "source": [
        "20. How would you open a file and read its contents using a context manager in Python"
      ],
      "metadata": {
        "id": "y16_EZClXOly"
      }
    },
    {
      "cell_type": "code",
      "source": [
        "# Open the file using a context manager\n",
        "with open('file.txt', 'r') as file:\n",
        "    content = file.read()  # Read the entire content of the file\n",
        "\n",
        "print(content)  # Print the file content\n"
      ],
      "metadata": {
        "id": "DXDLXxLBXToK"
      },
      "execution_count": null,
      "outputs": []
    },
    {
      "cell_type": "code",
      "source": [],
      "metadata": {
        "id": "BYZSxjoWXchD"
      },
      "execution_count": null,
      "outputs": []
    },
    {
      "cell_type": "markdown",
      "source": [
        "21. Write a Python program that reads a file and prints the number of occurrences of a specific word"
      ],
      "metadata": {
        "id": "sBZO5vcUXd6k"
      }
    },
    {
      "cell_type": "code",
      "source": [
        "def count_word_occurrences(file_name, word_to_count):\n",
        "    try:\n",
        "        with open(file_name, 'r') as file:\n",
        "            content = file.read()\n",
        "            word_count = content.lower().split().count(word_to_count.lower())  # Case-insensitive count\n",
        "            print(f\"The word '{word_to_count}' occurs {word_count} times in the file.\")\n",
        "    except FileNotFoundError:\n",
        "        print(f\"Error: The file '{file_name}' does not exist.\")\n",
        "\n",
        "# Example usage\n",
        "file_name = 'example.txt'\n",
        "word_to_count = 'python'\n",
        "\n",
        "count_word_occurrences(file_name, word_to_count)\n"
      ],
      "metadata": {
        "id": "VpyGBQmiXjqc"
      },
      "execution_count": null,
      "outputs": []
    },
    {
      "cell_type": "code",
      "source": [],
      "metadata": {
        "id": "YmQXkGiPXpLO"
      },
      "execution_count": null,
      "outputs": []
    },
    {
      "cell_type": "markdown",
      "source": [
        "22. ow can you check if a file is empty before attempting to read its contents"
      ],
      "metadata": {
        "id": "JMiE2hHMXqVi"
      }
    },
    {
      "cell_type": "code",
      "source": [
        "import os\n",
        "\n",
        "def check_file_empty(file_name):\n",
        "    if os.path.getsize(file_name) == 0:\n",
        "        print(f\"The file '{file_name}' is empty.\")\n",
        "    else:\n",
        "        with open(file_name, 'r') as file:\n",
        "            content = file.read()\n",
        "            print(\"File content:\", content)\n",
        "\n",
        "# Example usage\n",
        "file_name = 'example.txt'\n",
        "check_file_empty(file_name)\n"
      ],
      "metadata": {
        "id": "rRbVLz7GX0eh"
      },
      "execution_count": null,
      "outputs": []
    },
    {
      "cell_type": "code",
      "source": [],
      "metadata": {
        "id": "Edl-ocCYX63h"
      },
      "execution_count": null,
      "outputs": []
    },
    {
      "cell_type": "markdown",
      "source": [
        "23. Write a Python program that writes to a log file when an error occurs during file handling"
      ],
      "metadata": {
        "id": "42XmwQdNX718"
      }
    },
    {
      "cell_type": "code",
      "source": [
        "import logging\n",
        "\n",
        "# Configure logging to log to a file\n",
        "logging.basicConfig(filename='file_operations.log', level=logging.ERROR,\n",
        "                    format='%(asctime)s - %(levelname)s - %(message)s')\n",
        "\n",
        "def read_file(file_name):\n",
        "    try:\n",
        "        with open(file_name, 'r') as file:\n",
        "            content = file.read()\n",
        "            print(content)\n",
        "    except FileNotFoundError:\n",
        "        logging.error(f\"File not found: {file_name}\")\n",
        "        print(f\"Error: The file '{file_name}' does not exist.\")\n",
        "    except IOError as e:\n",
        "        logging.error(f\"IOError occurred: {str(e)}\")\n",
        "        print(f\"Error: An I/O error occurred while handling the file '{file_name}'.\")\n",
        "\n",
        "# Example usage\n",
        "file_name = 'nonexistent_file.txt'\n",
        "read_file(file_name)\n"
      ],
      "metadata": {
        "id": "WfQCO366YAFO"
      },
      "execution_count": null,
      "outputs": []
    },
    {
      "cell_type": "code",
      "source": [],
      "metadata": {
        "id": "Qncnqit4YFij"
      },
      "execution_count": null,
      "outputs": []
    }
  ]
}