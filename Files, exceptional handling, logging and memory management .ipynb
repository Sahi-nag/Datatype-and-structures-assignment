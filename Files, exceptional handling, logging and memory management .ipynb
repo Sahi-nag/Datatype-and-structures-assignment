{
  "nbformat": 4,
  "nbformat_minor": 0,
  "metadata": {
    "colab": {
      "provenance": [],
      "authorship_tag": "ABX9TyPZi69rg9l3sy6o7PEIf/yN",
      "include_colab_link": true
    },
    "kernelspec": {
      "name": "python3",
      "display_name": "Python 3"
    },
    "language_info": {
      "name": "python"
    }
  },
  "cells": [
    {
      "cell_type": "markdown",
      "metadata": {
        "id": "view-in-github",
        "colab_type": "text"
      },
      "source": [
        "<a href=\"https://colab.research.google.com/github/Sahi-nag/Datatype-and-structures-assignment/blob/main/Files%2C%20exceptional%20handling%2C%20logging%20and%20memory%20management%20.ipynb\" target=\"_parent\"><img src=\"https://colab.research.google.com/assets/colab-badge.svg\" alt=\"Open In Colab\"/></a>"
      ]
    },
    {
      "cell_type": "markdown",
      "source": [],
      "metadata": {
        "id": "NuNJK9lZspUZ"
      }
    },
    {
      "cell_type": "code",
      "execution_count": null,
      "metadata": {
        "id": "cltSzA0cse3z"
      },
      "outputs": [],
      "source": []
    },
    {
      "cell_type": "markdown",
      "source": [
        "Files, exceptional handling, logging and\n",
        "memory management Questions\n",
        "\n",
        "1. What is the difference between interpreted and compiled languages?\n",
        "-> Interpreted languages execute code line-by-line at runtime (e.g., Python), while compiled languages convert the entire code into machine language before execution (e.g., C++). Compiled languages usually run faster, whereas interpreted ones are more flexible for quick changes.\n",
        "\n",
        "2. What is exception handling in Python?\n",
        "-> Exception handling in Python is a way to manage errors using try, except, else, and finally blocks. It prevents programs from crashing by handling unexpected situations gracefully.\n",
        "\n",
        "3. What is the purpose of the finally block in exception handling?\n",
        "-> The finally block in Python is used to define code that runs no matter what—whether an exception occurs or not. It's typically used for cleanup actions like closing files or releasing resources.\n",
        "\n",
        "4.  What is logging in Python?\n",
        "-> Logging in Python is the process of recording messages that describe events or errors in a program. It helps in debugging and monitoring by keeping track of the program’s flow and issues using the logging module.\n",
        "\n",
        "5.  What is the significance of the __del__ method in Python?\n",
        "-> The __del__ method in Python is a destructor that is called when an object is about to be destroyed. It’s used to clean up resources like closing files or releasing memory before the object is deleted.\n",
        "\n",
        "6. What is the difference between import and from ... import in Python?\n",
        "-> import brings in the entire module (e.g., import math), so you access functions with module.function.\n",
        "from ... import lets you import specific parts (e.g., from math import sqrt) and use them directly without the module name.\n",
        "\n",
        "7. How can you handle multiple exceptions in Python?\n",
        "-> You can handle multiple exceptions in Python by using multiple except blocks or grouping them in a single block with parentheses.\n",
        "\n",
        "8. What is the purpose of the with statement when handling files in Python?\n",
        "-> The with statement in Python is used to handle files safely and efficiently. It automatically manages opening and closing the file, even if an error occurs, reducing the risk of resource leaks.\n",
        "\n",
        "9. What is the difference between multithreading and multiprocessing?\n",
        "-> Multithreading allows multiple threads to run in the same process, sharing memory space, which is good for I/O-bound tasks.\n",
        "Multiprocessing runs separate processes with their own memory, better for CPU-bound tasks as it avoids the Global Interpreter Lock (GIL).\n",
        "\n",
        "10. What are the advantages of using logging in a program?\n",
        "-> ​Implementing logging in a program offers several advantages:\n",
        "Debugging and Troubleshooting: Logs provide detailed information about system behavior, helping developers identify and resolve issues efficiently.\n",
        "Performance Monitoring: By tracking metrics like response times and resource usage, logs assist in identifying performance bottlenecks and optimizing system performance.\n",
        "Security and Auditing: Logs record access and modification events, aiding in detecting unauthorized access and ensuring compliance with security standards.\n",
        "Compliance: Many industries require detailed logging to meet regulatory standards, ensuring that organizations adhere to legal and security requirements.\n",
        "In summary, logging enhances a program's reliability, performance, security, and compliance, making it an essential practice in software development.\n",
        "\n",
        "11. What is memory management in Python?\n",
        "-> ​Memory management in Python involves automatic handling of memory allocation and deallocation. It employs reference counting to track object references and utilizes garbage collection to reclaim memory from objects that are no longer in use.\n",
        "\n",
        "12. What are the basic steps involved in exception handling in Python?\n",
        "> ​In Python, exception handling involves the following basic steps:\n",
        "try Block: Place the code that might raise an exception inside the try block.\n",
        "except Block: Specify the exception type(s) to catch and handle them appropriately.\n",
        "else Block (optional): Execute code if no exceptions were raised in the try block.\n",
        "finally Block: Execute cleanup code, regardless of whether an exception occurred or not.\n",
        "This structure allows for robust error handling and resource management in Python programs.\n",
        "\n",
        "13. Why is memory management important in Python?\n",
        "-> ​Memory management in Python is crucial for optimizing performance and preventing issues like memory leaks. By efficiently allocating and deallocating memory, Python ensures that resources are used effectively, leading to more reliable and faster applications.\n",
        "\n",
        "14. What is the role of try and except in exception handling?\n",
        "-> ​In Python, the try block allows to write code that might raise exceptions, while the except block lets handle those exceptions gracefully. This mechanism prevents your program from crashing and enables to manage errors effectively.\n",
        "\n",
        "15. How does Python's garbage collection system work?\n",
        "-> Python employs a dual garbage collection strategy: reference counting and cyclic garbage collection. Reference counting tracks the number of references to each object; when this count drops to zero, the object's memory is immediately deallocated. However, this method doesn't handle circular references. To address this, Python's cyclic garbage collector identifies and cleans up groups of objects involved in reference cycles that are no longer accessible from the program, preventing memory leaks .\n",
        "\n",
        "16. What is the purpose of the else block in exception handling?\n",
        "-> ​The else block in Python's exception handling structure is executed only if no exceptions are raised in the try block. It allows you to separate code that should run when the try block succeeds from code that handles errors, enhancing readability and preventing unintended exception handling.\n",
        "\n",
        "17. What are the common logging levels in Python?\n",
        "-> The common logging levels in Python are: DEBUG, INFO, WARNING, ERROR, and CRITICAL. They indicate the severity of events, from detailed debugging info to critical system failures.\n",
        "\n",
        "18. What is the difference between os.fork() and multiprocessing in Python?\n",
        "-> os.fork() creates a child process by duplicating the current process at the OS level, available only on Unix-like systems. multiprocessing is a cross-platform Python module that provides a higher-level interface for creating and managing processes, with better support for communication and synchronization between them.\n",
        "\n",
        "19. What is the importance of closing a file in Python?\n",
        "> Closing a file in Python is important because it frees up system resources and ensures that all data is properly written to the file (especially in write mode). It also helps prevent data corruption and potential file access issues.\n",
        "\n",
        "20. What is the difference between file.read() and file.readline() in Python?\n",
        "-> file.read() reads the entire content of the file as a single string, while file.readline() reads one line at a time from the file. Use readline() when you want to process a file line by line.\n",
        "\n",
        "21. What is the logging module in Python used for?\n",
        "-> The logging module in Python is used to record messages about a program’s execution, such as errors, warnings, or informational events. It helps in debugging and monitoring by writing logs to the console, files, or other outputs.\n",
        "\n",
        "22. What is the os module in Python used for in file handling?\n",
        "-> The os module in Python is used for interacting with the operating system, especially for file handling tasks like creating, deleting, renaming files/directories, and navigating the file system (e.g., using os.remove(), os.rename(), os.listdir(), etc.).\n",
        "\n",
        "23. What are the challenges associated with memory management in Python?\n",
        "-> Memory management in Python can be challenging due to issues like memory leaks from circular references and performance overhead from garbage collection. The Global Interpreter Lock (GIL) also limits efficient memory use in multi-threaded programs.\n",
        "\n",
        "24. How do you raise an exception manually in Python?\n",
        "-> In Python, we can raise an exception manually using the raise keyword, followed by the exception class.\n",
        "\n",
        "25. Why is it important to use multithreading in certain applications?\n",
        "-> Multithreading is important in certain applications because it allows for concurrent execution of tasks, improving efficiency and responsiveness. It is especially useful for I/O-bound operations (like file handling, network requests) and for utilizing multi-core processors in CPU-bound tasks, leading to better resource utilization and faster performance."
      ],
      "metadata": {
        "id": "ArKtYrQTsshf"
      }
    },
    {
      "cell_type": "code",
      "source": [],
      "metadata": {
        "id": "PTKEBhgm-R4B"
      },
      "execution_count": null,
      "outputs": []
    },
    {
      "cell_type": "markdown",
      "source": [
        "**Practical Questions**"
      ],
      "metadata": {
        "id": "GlOrQC9K-TXH"
      }
    },
    {
      "cell_type": "code",
      "source": [],
      "metadata": {
        "id": "McHLodje-V4Y"
      },
      "execution_count": null,
      "outputs": []
    },
    {
      "cell_type": "markdown",
      "source": [
        "1. How can you open a file for writing in Python and write a string to it?"
      ],
      "metadata": {
        "id": "wZgIR7nn-e9_"
      }
    },
    {
      "cell_type": "code",
      "source": [
        "with open('file.txt', 'w') as file:\n",
        "    file.write(\"Hello, \")\n"
      ],
      "metadata": {
        "id": "jz24LTEm-mSI"
      },
      "execution_count": 2,
      "outputs": []
    },
    {
      "cell_type": "code",
      "source": [],
      "metadata": {
        "id": "9zFG8V7l_QrQ"
      },
      "execution_count": null,
      "outputs": []
    },
    {
      "cell_type": "markdown",
      "source": [
        "2. Write a Python program to read the contents of a file and print each line?\n"
      ],
      "metadata": {
        "id": "YmqTP9Jv_clw"
      }
    },
    {
      "cell_type": "code",
      "source": [
        "# Open the file in read mode\n",
        "with open('file.txt', 'r') as file:\n",
        "    # Read each line and print it\n",
        "    for line in file:\n",
        "        print(line, end='')  # 'end' is used to avoid adding extra newlines\n"
      ],
      "metadata": {
        "colab": {
          "base_uri": "https://localhost:8080/"
        },
        "id": "7MuVJ0Nw_iuK",
        "outputId": "b629335c-f805-4939-bc90-a996fe6a5b70"
      },
      "execution_count": 3,
      "outputs": [
        {
          "output_type": "stream",
          "name": "stdout",
          "text": [
            "Hello, "
          ]
        }
      ]
    },
    {
      "cell_type": "code",
      "source": [],
      "metadata": {
        "id": "l7eJdth9_qnA"
      },
      "execution_count": null,
      "outputs": []
    },
    {
      "cell_type": "markdown",
      "source": [
        "3.  How would you handle a case where the file doesn't exist while trying to open it for reading?"
      ],
      "metadata": {
        "id": "lQqoSDMr_tzy"
      }
    },
    {
      "cell_type": "code",
      "source": [
        "try:\n",
        "    with open(\"example.txt\", \"r\") as file:\n",
        "        content = file.read()\n",
        "        print(content)\n",
        "except FileNotFoundError:\n",
        "    print(\"The file does not exist.\")\n"
      ],
      "metadata": {
        "colab": {
          "base_uri": "https://localhost:8080/"
        },
        "id": "_apbuf9_Hbfr",
        "outputId": "db2e4b82-e3c6-4d9a-d209-497386d82bf6"
      },
      "execution_count": 4,
      "outputs": [
        {
          "output_type": "stream",
          "name": "stdout",
          "text": [
            "The file does not exist.\n"
          ]
        }
      ]
    },
    {
      "cell_type": "code",
      "source": [],
      "metadata": {
        "id": "nF7AgvMfHhil"
      },
      "execution_count": null,
      "outputs": []
    },
    {
      "cell_type": "markdown",
      "source": [
        "4.  Write a Python script that reads from one file and writes its content to another file"
      ],
      "metadata": {
        "id": "MJxPNOwiHlwj"
      }
    },
    {
      "cell_type": "code",
      "source": [],
      "metadata": {
        "id": "urwiT_VlIG0q"
      },
      "execution_count": null,
      "outputs": []
    },
    {
      "cell_type": "code",
      "source": [
        "# Open the source file in read mode and the destination file in write mode\n",
        "# Check if the source file exists before opening it\n",
        "import os\n",
        "\n",
        "if os.path.exists('source.txt'):\n",
        "    with open('source.txt', 'r') as source_file:\n",
        "        with open('destination.txt', 'w') as destination_file:\n",
        "            # Read content from the source file and write to the destination file\n",
        "            content = source_file.read()\n",
        "            destination_file.write(content)\n",
        "\n",
        "    print(\"Content has been copied from source.txt to destination.txt\")\n",
        "else:\n",
        "    print(\"Source file 'source.txt' not found.\")"
      ],
      "metadata": {
        "colab": {
          "base_uri": "https://localhost:8080/"
        },
        "id": "mOqZlHVkIs6q",
        "outputId": "fd444ee2-357d-4043-d12f-4a5ff445d141"
      },
      "execution_count": 9,
      "outputs": [
        {
          "output_type": "stream",
          "name": "stdout",
          "text": [
            "Source file 'source.txt' not found.\n"
          ]
        }
      ]
    },
    {
      "cell_type": "code",
      "source": [],
      "metadata": {
        "id": "gBr_zr2CKmvN"
      },
      "execution_count": null,
      "outputs": []
    },
    {
      "cell_type": "markdown",
      "source": [
        "5. How would you catch and handle division by zero error in Python?"
      ],
      "metadata": {
        "id": "X1X8WDuIKydE"
      }
    },
    {
      "cell_type": "code",
      "source": [
        "try:\n",
        "    result = 10 / 0\n",
        "except ZeroDivisionError:\n",
        "    print(\"Error: Cannot divide by zero.\")\n"
      ],
      "metadata": {
        "colab": {
          "base_uri": "https://localhost:8080/"
        },
        "id": "XlrsFDWWLC--",
        "outputId": "54b48119-892b-4dfa-9c16-d6aedb1c1201"
      },
      "execution_count": 11,
      "outputs": [
        {
          "output_type": "stream",
          "name": "stdout",
          "text": [
            "Error: Cannot divide by zero.\n"
          ]
        }
      ]
    },
    {
      "cell_type": "code",
      "source": [
        "6. Write a Python program that logs an error message to a log file when a division by zero exception occurs"
      ],
      "metadata": {
        "colab": {
          "base_uri": "https://localhost:8080/",
          "height": 124
        },
        "id": "QK9IklGMLP2Z",
        "outputId": "3d0a2546-5fbb-4117-fee5-e7e1e69a70cb"
      },
      "execution_count": 12,
      "outputs": [
        {
          "output_type": "error",
          "ename": "SyntaxError",
          "evalue": "invalid syntax (<ipython-input-12-aee5e3f3b2bc>, line 1)",
          "traceback": [
            "\u001b[0;36m  File \u001b[0;32m\"<ipython-input-12-aee5e3f3b2bc>\"\u001b[0;36m, line \u001b[0;32m1\u001b[0m\n\u001b[0;31m    6. Write a Python program that logs an error message to a log file when a division by zero exception occurs\u001b[0m\n\u001b[0m       ^\u001b[0m\n\u001b[0;31mSyntaxError\u001b[0m\u001b[0;31m:\u001b[0m invalid syntax\n"
          ]
        }
      ]
    },
    {
      "cell_type": "code",
      "source": [],
      "metadata": {
        "id": "bqSDkzFBLVyM"
      },
      "execution_count": null,
      "outputs": []
    }
  ]
}